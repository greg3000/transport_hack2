{
 "cells": [
  {
   "cell_type": "code",
   "execution_count": 75,
   "id": "aaecc93b-0f57-46f0-bd8d-8479ee023711",
   "metadata": {
    "tags": []
   },
   "outputs": [],
   "source": [
    "import folium\n",
    "from folium.plugins import HeatMap\n",
    "import pandas as pd"
   ]
  },
  {
   "cell_type": "code",
   "execution_count": 76,
   "id": "9e303ca5-05ad-46d2-acf4-70aef8dfcba1",
   "metadata": {
    "tags": []
   },
   "outputs": [
    {
     "name": "stderr",
     "output_type": "stream",
     "text": [
      "/var/tmp/ipykernel_4070/3042241901.py:10: FutureWarning: Setting an item of incompatible dtype is deprecated and will raise an error in a future version of pandas. Value '51.30896' has dtype incompatible with int64, please explicitly cast to a compatible dtype first.\n",
      "  heatmap_df.loc[heatmap_df['label']==item,\"latitude\"]=maplist[item][0]\n",
      "/var/tmp/ipykernel_4070/3042241901.py:11: FutureWarning: Setting an item of incompatible dtype is deprecated and will raise an error in a future version of pandas. Value '0.380471' has dtype incompatible with int64, please explicitly cast to a compatible dtype first.\n",
      "  heatmap_df.loc[heatmap_df['label']==item,\"longitude\"]=maplist[item][1]\n"
     ]
    }
   ],
   "source": [
    "heatmap_df = pd.read_csv(\"grouped_residuals_by_date_and_location.csv\")\n",
    "heatmap_df[\"latitude\"]=0\n",
    "heatmap_df[\"longitude\"] =0\n",
    "\n",
    "maplist = {\"R1_M20_6468A\":(51.30896,0.380471),\"R1_M20_6477A\":(51.30950,0.393356),\"R1_M25_4094A\":(51.42118,0.234001),\n",
    "           \"R2_A2_8362A\":(51.42055,0.343562),\"R2_A2_8380A\":(51.41359,0.366058),\"R2_M2_8431J\":(51.39994,0.433861),\n",
    "           \"R3_5889_1\":(51.11011,1.286078),\"R3_M20_6576A\":(51.29545,0.528170),\n",
    "           \"R4_M2_8545A\":(51.32647,0.530954),\"R4_M2_8565A\":(51.32574,0.559163)}\n",
    "for item in maplist.keys():\n",
    "    heatmap_df.loc[heatmap_df['label']==item,\"latitude\"]=maplist[item][0]\n",
    "    heatmap_df.loc[heatmap_df['label']==item,\"longitude\"]=maplist[item][1]\n"
   ]
  },
  {
   "cell_type": "code",
   "execution_count": 23,
   "id": "8be4b4d6-13e4-44f5-89e8-b4072274b546",
   "metadata": {
    "tags": []
   },
   "outputs": [],
   "source": [
    "showdata = heatmap_df.iloc[1:11]\n"
   ]
  },
  {
   "cell_type": "code",
   "execution_count": 28,
   "id": "aff9902a-7b95-46d4-b0bd-a948de950404",
   "metadata": {
    "tags": []
   },
   "outputs": [
    {
     "data": {
      "text/html": [
       "<div>\n",
       "<style scoped>\n",
       "    .dataframe tbody tr th:only-of-type {\n",
       "        vertical-align: middle;\n",
       "    }\n",
       "\n",
       "    .dataframe tbody tr th {\n",
       "        vertical-align: top;\n",
       "    }\n",
       "\n",
       "    .dataframe thead th {\n",
       "        text-align: right;\n",
       "    }\n",
       "</style>\n",
       "<table border=\"1\" class=\"dataframe\">\n",
       "  <thead>\n",
       "    <tr style=\"text-align: right;\">\n",
       "      <th></th>\n",
       "      <th>00:00</th>\n",
       "      <th>00:15</th>\n",
       "      <th>00:30</th>\n",
       "      <th>00:45</th>\n",
       "      <th>01:00</th>\n",
       "      <th>01:15</th>\n",
       "      <th>01:30</th>\n",
       "      <th>01:45</th>\n",
       "      <th>02:00</th>\n",
       "      <th>02:15</th>\n",
       "      <th>...</th>\n",
       "      <th>21:30</th>\n",
       "      <th>21:45</th>\n",
       "      <th>22:00</th>\n",
       "      <th>22:15</th>\n",
       "      <th>22:30</th>\n",
       "      <th>22:45</th>\n",
       "      <th>23:00</th>\n",
       "      <th>23:15</th>\n",
       "      <th>23:30</th>\n",
       "      <th>23:45</th>\n",
       "    </tr>\n",
       "  </thead>\n",
       "  <tbody>\n",
       "    <tr>\n",
       "      <th>1</th>\n",
       "      <td>0.015306</td>\n",
       "      <td>0.031081</td>\n",
       "      <td>0.004674</td>\n",
       "      <td>0.020628</td>\n",
       "      <td>0.027759</td>\n",
       "      <td>0.019943</td>\n",
       "      <td>0.058721</td>\n",
       "      <td>0.021577</td>\n",
       "      <td>0.006162</td>\n",
       "      <td>0.013692</td>\n",
       "      <td>...</td>\n",
       "      <td>0.006776</td>\n",
       "      <td>0.030906</td>\n",
       "      <td>0.028806</td>\n",
       "      <td>0.033710</td>\n",
       "      <td>0.053932</td>\n",
       "      <td>0.005519</td>\n",
       "      <td>0.010987</td>\n",
       "      <td>0.041581</td>\n",
       "      <td>0.039841</td>\n",
       "      <td>0.020971</td>\n",
       "    </tr>\n",
       "    <tr>\n",
       "      <th>2</th>\n",
       "      <td>0.020304</td>\n",
       "      <td>0.006789</td>\n",
       "      <td>0.029111</td>\n",
       "      <td>0.001641</td>\n",
       "      <td>0.014479</td>\n",
       "      <td>0.010907</td>\n",
       "      <td>0.002723</td>\n",
       "      <td>0.014855</td>\n",
       "      <td>0.002865</td>\n",
       "      <td>0.051855</td>\n",
       "      <td>...</td>\n",
       "      <td>0.035189</td>\n",
       "      <td>0.039183</td>\n",
       "      <td>0.028296</td>\n",
       "      <td>0.024757</td>\n",
       "      <td>0.002968</td>\n",
       "      <td>0.009933</td>\n",
       "      <td>0.020577</td>\n",
       "      <td>0.019095</td>\n",
       "      <td>0.003578</td>\n",
       "      <td>0.030669</td>\n",
       "    </tr>\n",
       "    <tr>\n",
       "      <th>3</th>\n",
       "      <td>0.003916</td>\n",
       "      <td>0.013310</td>\n",
       "      <td>0.009253</td>\n",
       "      <td>0.027613</td>\n",
       "      <td>0.031408</td>\n",
       "      <td>0.073820</td>\n",
       "      <td>0.056242</td>\n",
       "      <td>0.058975</td>\n",
       "      <td>0.047397</td>\n",
       "      <td>0.020943</td>\n",
       "      <td>...</td>\n",
       "      <td>0.010287</td>\n",
       "      <td>0.016304</td>\n",
       "      <td>0.055631</td>\n",
       "      <td>0.027665</td>\n",
       "      <td>0.068615</td>\n",
       "      <td>0.003489</td>\n",
       "      <td>0.055300</td>\n",
       "      <td>0.036210</td>\n",
       "      <td>0.039953</td>\n",
       "      <td>0.020013</td>\n",
       "    </tr>\n",
       "    <tr>\n",
       "      <th>4</th>\n",
       "      <td>0.008813</td>\n",
       "      <td>0.023297</td>\n",
       "      <td>0.004016</td>\n",
       "      <td>0.008913</td>\n",
       "      <td>0.005129</td>\n",
       "      <td>0.063965</td>\n",
       "      <td>0.071996</td>\n",
       "      <td>0.065076</td>\n",
       "      <td>0.032145</td>\n",
       "      <td>0.009539</td>\n",
       "      <td>...</td>\n",
       "      <td>0.000281</td>\n",
       "      <td>0.018035</td>\n",
       "      <td>0.066278</td>\n",
       "      <td>0.048085</td>\n",
       "      <td>0.040681</td>\n",
       "      <td>0.001554</td>\n",
       "      <td>0.034582</td>\n",
       "      <td>0.041151</td>\n",
       "      <td>0.038267</td>\n",
       "      <td>0.005575</td>\n",
       "    </tr>\n",
       "    <tr>\n",
       "      <th>5</th>\n",
       "      <td>0.000666</td>\n",
       "      <td>0.000563</td>\n",
       "      <td>0.019813</td>\n",
       "      <td>0.000140</td>\n",
       "      <td>0.014733</td>\n",
       "      <td>0.006833</td>\n",
       "      <td>0.014457</td>\n",
       "      <td>0.001171</td>\n",
       "      <td>0.028973</td>\n",
       "      <td>0.010900</td>\n",
       "      <td>...</td>\n",
       "      <td>0.014115</td>\n",
       "      <td>0.018094</td>\n",
       "      <td>0.005207</td>\n",
       "      <td>0.014278</td>\n",
       "      <td>0.008683</td>\n",
       "      <td>0.000942</td>\n",
       "      <td>0.002472</td>\n",
       "      <td>0.019789</td>\n",
       "      <td>0.019502</td>\n",
       "      <td>0.008613</td>\n",
       "    </tr>\n",
       "    <tr>\n",
       "      <th>6</th>\n",
       "      <td>0.004396</td>\n",
       "      <td>0.002125</td>\n",
       "      <td>0.007230</td>\n",
       "      <td>0.007911</td>\n",
       "      <td>0.000214</td>\n",
       "      <td>0.003092</td>\n",
       "      <td>0.010254</td>\n",
       "      <td>0.004611</td>\n",
       "      <td>0.024272</td>\n",
       "      <td>0.010933</td>\n",
       "      <td>...</td>\n",
       "      <td>0.008613</td>\n",
       "      <td>0.003391</td>\n",
       "      <td>0.006575</td>\n",
       "      <td>0.012174</td>\n",
       "      <td>0.022513</td>\n",
       "      <td>0.025531</td>\n",
       "      <td>0.044549</td>\n",
       "      <td>0.014174</td>\n",
       "      <td>0.097579</td>\n",
       "      <td>0.042507</td>\n",
       "    </tr>\n",
       "    <tr>\n",
       "      <th>7</th>\n",
       "      <td>0.006913</td>\n",
       "      <td>0.016323</td>\n",
       "      <td>0.013530</td>\n",
       "      <td>0.002780</td>\n",
       "      <td>0.005036</td>\n",
       "      <td>0.039823</td>\n",
       "      <td>0.055651</td>\n",
       "      <td>0.051838</td>\n",
       "      <td>0.006003</td>\n",
       "      <td>0.000457</td>\n",
       "      <td>...</td>\n",
       "      <td>0.012714</td>\n",
       "      <td>0.042336</td>\n",
       "      <td>0.055859</td>\n",
       "      <td>0.010229</td>\n",
       "      <td>0.009992</td>\n",
       "      <td>0.038263</td>\n",
       "      <td>0.044016</td>\n",
       "      <td>0.014881</td>\n",
       "      <td>0.001098</td>\n",
       "      <td>0.003301</td>\n",
       "    </tr>\n",
       "    <tr>\n",
       "      <th>8</th>\n",
       "      <td>0.008194</td>\n",
       "      <td>0.016719</td>\n",
       "      <td>0.012997</td>\n",
       "      <td>0.007033</td>\n",
       "      <td>0.023101</td>\n",
       "      <td>0.002268</td>\n",
       "      <td>0.010154</td>\n",
       "      <td>0.035585</td>\n",
       "      <td>0.005887</td>\n",
       "      <td>0.013205</td>\n",
       "      <td>...</td>\n",
       "      <td>0.029389</td>\n",
       "      <td>0.021729</td>\n",
       "      <td>0.017337</td>\n",
       "      <td>0.026191</td>\n",
       "      <td>0.025599</td>\n",
       "      <td>0.030509</td>\n",
       "      <td>0.042587</td>\n",
       "      <td>0.060521</td>\n",
       "      <td>0.044756</td>\n",
       "      <td>0.032447</td>\n",
       "    </tr>\n",
       "    <tr>\n",
       "      <th>9</th>\n",
       "      <td>0.006877</td>\n",
       "      <td>0.007919</td>\n",
       "      <td>0.016760</td>\n",
       "      <td>0.001538</td>\n",
       "      <td>0.022092</td>\n",
       "      <td>0.010273</td>\n",
       "      <td>0.024489</td>\n",
       "      <td>0.017131</td>\n",
       "      <td>0.014504</td>\n",
       "      <td>0.020326</td>\n",
       "      <td>...</td>\n",
       "      <td>0.030499</td>\n",
       "      <td>0.065296</td>\n",
       "      <td>0.035134</td>\n",
       "      <td>0.033509</td>\n",
       "      <td>0.017981</td>\n",
       "      <td>0.026677</td>\n",
       "      <td>0.031979</td>\n",
       "      <td>0.052988</td>\n",
       "      <td>0.024193</td>\n",
       "      <td>0.051274</td>\n",
       "    </tr>\n",
       "    <tr>\n",
       "      <th>10</th>\n",
       "      <td>0.027428</td>\n",
       "      <td>0.036632</td>\n",
       "      <td>0.014557</td>\n",
       "      <td>0.034281</td>\n",
       "      <td>0.005520</td>\n",
       "      <td>0.025866</td>\n",
       "      <td>0.025057</td>\n",
       "      <td>0.009674</td>\n",
       "      <td>0.007405</td>\n",
       "      <td>0.015593</td>\n",
       "      <td>...</td>\n",
       "      <td>0.012272</td>\n",
       "      <td>0.030328</td>\n",
       "      <td>0.030990</td>\n",
       "      <td>0.017917</td>\n",
       "      <td>0.014268</td>\n",
       "      <td>0.022499</td>\n",
       "      <td>0.004541</td>\n",
       "      <td>0.047566</td>\n",
       "      <td>0.013426</td>\n",
       "      <td>0.000885</td>\n",
       "    </tr>\n",
       "  </tbody>\n",
       "</table>\n",
       "<p>10 rows × 96 columns</p>\n",
       "</div>"
      ],
      "text/plain": [
       "       00:00     00:15     00:30     00:45     01:00     01:15     01:30  \\\n",
       "1   0.015306  0.031081  0.004674  0.020628  0.027759  0.019943  0.058721   \n",
       "2   0.020304  0.006789  0.029111  0.001641  0.014479  0.010907  0.002723   \n",
       "3   0.003916  0.013310  0.009253  0.027613  0.031408  0.073820  0.056242   \n",
       "4   0.008813  0.023297  0.004016  0.008913  0.005129  0.063965  0.071996   \n",
       "5   0.000666  0.000563  0.019813  0.000140  0.014733  0.006833  0.014457   \n",
       "6   0.004396  0.002125  0.007230  0.007911  0.000214  0.003092  0.010254   \n",
       "7   0.006913  0.016323  0.013530  0.002780  0.005036  0.039823  0.055651   \n",
       "8   0.008194  0.016719  0.012997  0.007033  0.023101  0.002268  0.010154   \n",
       "9   0.006877  0.007919  0.016760  0.001538  0.022092  0.010273  0.024489   \n",
       "10  0.027428  0.036632  0.014557  0.034281  0.005520  0.025866  0.025057   \n",
       "\n",
       "       01:45     02:00     02:15  ...     21:30     21:45     22:00     22:15  \\\n",
       "1   0.021577  0.006162  0.013692  ...  0.006776  0.030906  0.028806  0.033710   \n",
       "2   0.014855  0.002865  0.051855  ...  0.035189  0.039183  0.028296  0.024757   \n",
       "3   0.058975  0.047397  0.020943  ...  0.010287  0.016304  0.055631  0.027665   \n",
       "4   0.065076  0.032145  0.009539  ...  0.000281  0.018035  0.066278  0.048085   \n",
       "5   0.001171  0.028973  0.010900  ...  0.014115  0.018094  0.005207  0.014278   \n",
       "6   0.004611  0.024272  0.010933  ...  0.008613  0.003391  0.006575  0.012174   \n",
       "7   0.051838  0.006003  0.000457  ...  0.012714  0.042336  0.055859  0.010229   \n",
       "8   0.035585  0.005887  0.013205  ...  0.029389  0.021729  0.017337  0.026191   \n",
       "9   0.017131  0.014504  0.020326  ...  0.030499  0.065296  0.035134  0.033509   \n",
       "10  0.009674  0.007405  0.015593  ...  0.012272  0.030328  0.030990  0.017917   \n",
       "\n",
       "       22:30     22:45     23:00     23:15     23:30     23:45  \n",
       "1   0.053932  0.005519  0.010987  0.041581  0.039841  0.020971  \n",
       "2   0.002968  0.009933  0.020577  0.019095  0.003578  0.030669  \n",
       "3   0.068615  0.003489  0.055300  0.036210  0.039953  0.020013  \n",
       "4   0.040681  0.001554  0.034582  0.041151  0.038267  0.005575  \n",
       "5   0.008683  0.000942  0.002472  0.019789  0.019502  0.008613  \n",
       "6   0.022513  0.025531  0.044549  0.014174  0.097579  0.042507  \n",
       "7   0.009992  0.038263  0.044016  0.014881  0.001098  0.003301  \n",
       "8   0.025599  0.030509  0.042587  0.060521  0.044756  0.032447  \n",
       "9   0.017981  0.026677  0.031979  0.052988  0.024193  0.051274  \n",
       "10  0.014268  0.022499  0.004541  0.047566  0.013426  0.000885  \n",
       "\n",
       "[10 rows x 96 columns]"
      ]
     },
     "execution_count": 28,
     "metadata": {},
     "output_type": "execute_result"
    }
   ],
   "source": [
    "showdata.iloc[:,2:98]"
   ]
  },
  {
   "cell_type": "code",
   "execution_count": 43,
   "id": "7c5d6cce-dd91-42e4-b968-4a39c8e9f552",
   "metadata": {
    "tags": []
   },
   "outputs": [
    {
     "data": {
      "text/plain": [
       "Index(['Report Date', 'label', '00:00', '00:15', '00:30', '00:45', '01:00',\n",
       "       '01:15', '01:30', '01:45',\n",
       "       ...\n",
       "       '21:30_normalized', '21:45_normalized', '22:00_normalized',\n",
       "       '22:15_normalized', '22:30_normalized', '22:45_normalized',\n",
       "       '23:00_normalized', '23:15_normalized', '23:30_normalized',\n",
       "       '23:45_normalized'],\n",
       "      dtype='object', length=197)"
      ]
     },
     "execution_count": 43,
     "metadata": {},
     "output_type": "execute_result"
    }
   ],
   "source": [
    "showdata.columns"
   ]
  },
  {
   "cell_type": "code",
   "execution_count": 77,
   "id": "4162ace6-ac14-4f8e-b31a-b0ba9a5a96e0",
   "metadata": {
    "tags": []
   },
   "outputs": [
    {
     "name": "stderr",
     "output_type": "stream",
     "text": [
      "/var/tmp/ipykernel_4070/1416179236.py:11: SettingWithCopyWarning: \n",
      "A value is trying to be set on a copy of a slice from a DataFrame.\n",
      "Try using .loc[row_indexer,col_indexer] = value instead\n",
      "\n",
      "See the caveats in the documentation: https://pandas.pydata.org/pandas-docs/stable/user_guide/indexing.html#returning-a-view-versus-a-copy\n",
      "  showdata[f'{item}_normalized'] = showdata[item].apply(normalize, args=(global_min, global_max))\n"
     ]
    }
   ],
   "source": [
    "\n",
    "\n",
    "# 找到两个数据集的全局最小值和最大值\n",
    "global_min = showdata.iloc[:,2:98].min().min()\n",
    "global_max = showdata.iloc[:,2:98].max().max()\n",
    "\n",
    "# 归一化函数\n",
    "def normalize(value, min_val, max_val):\n",
    "    return (value - min_val) / (max_val - min_val)\n",
    "\n",
    "# 归一化数据\n",
    "for item in showdata.columns[2:98]:\n",
    "    showdata[f'{item}_normalized'] = showdata[item].apply(normalize, args=(global_min, global_max))\n"
   ]
  },
  {
   "cell_type": "code",
   "execution_count": 57,
   "id": "1f920759-894d-4992-b88a-f85e9f5e26d5",
   "metadata": {
    "tags": []
   },
   "outputs": [
    {
     "data": {
      "text/html": [
       "<div>\n",
       "<style scoped>\n",
       "    .dataframe tbody tr th:only-of-type {\n",
       "        vertical-align: middle;\n",
       "    }\n",
       "\n",
       "    .dataframe tbody tr th {\n",
       "        vertical-align: top;\n",
       "    }\n",
       "\n",
       "    .dataframe thead th {\n",
       "        text-align: right;\n",
       "    }\n",
       "</style>\n",
       "<table border=\"1\" class=\"dataframe\">\n",
       "  <thead>\n",
       "    <tr style=\"text-align: right;\">\n",
       "      <th></th>\n",
       "      <th>00:00_normalized</th>\n",
       "      <th>00:15_normalized</th>\n",
       "      <th>00:30_normalized</th>\n",
       "      <th>00:45_normalized</th>\n",
       "      <th>01:00_normalized</th>\n",
       "      <th>01:15_normalized</th>\n",
       "      <th>01:30_normalized</th>\n",
       "      <th>01:45_normalized</th>\n",
       "      <th>02:00_normalized</th>\n",
       "      <th>02:15_normalized</th>\n",
       "      <th>...</th>\n",
       "      <th>21:30_normalized</th>\n",
       "      <th>21:45_normalized</th>\n",
       "      <th>22:00_normalized</th>\n",
       "      <th>22:15_normalized</th>\n",
       "      <th>22:30_normalized</th>\n",
       "      <th>22:45_normalized</th>\n",
       "      <th>23:00_normalized</th>\n",
       "      <th>23:15_normalized</th>\n",
       "      <th>23:30_normalized</th>\n",
       "      <th>23:45_normalized</th>\n",
       "    </tr>\n",
       "  </thead>\n",
       "  <tbody>\n",
       "    <tr>\n",
       "      <th>1</th>\n",
       "      <td>0.051196</td>\n",
       "      <td>0.104227</td>\n",
       "      <td>0.015455</td>\n",
       "      <td>0.069085</td>\n",
       "      <td>0.093058</td>\n",
       "      <td>0.066785</td>\n",
       "      <td>0.197143</td>\n",
       "      <td>0.072276</td>\n",
       "      <td>0.020455</td>\n",
       "      <td>0.045768</td>\n",
       "      <td>...</td>\n",
       "      <td>0.022520</td>\n",
       "      <td>0.103638</td>\n",
       "      <td>0.096578</td>\n",
       "      <td>0.113066</td>\n",
       "      <td>0.181046</td>\n",
       "      <td>0.018296</td>\n",
       "      <td>0.036675</td>\n",
       "      <td>0.139523</td>\n",
       "      <td>0.133674</td>\n",
       "      <td>0.070241</td>\n",
       "    </tr>\n",
       "    <tr>\n",
       "      <th>2</th>\n",
       "      <td>0.067998</td>\n",
       "      <td>0.022565</td>\n",
       "      <td>0.097602</td>\n",
       "      <td>0.005259</td>\n",
       "      <td>0.048415</td>\n",
       "      <td>0.036407</td>\n",
       "      <td>0.008896</td>\n",
       "      <td>0.049678</td>\n",
       "      <td>0.009373</td>\n",
       "      <td>0.174062</td>\n",
       "      <td>...</td>\n",
       "      <td>0.118037</td>\n",
       "      <td>0.131462</td>\n",
       "      <td>0.094863</td>\n",
       "      <td>0.082967</td>\n",
       "      <td>0.009719</td>\n",
       "      <td>0.033132</td>\n",
       "      <td>0.068915</td>\n",
       "      <td>0.063932</td>\n",
       "      <td>0.011771</td>\n",
       "      <td>0.102841</td>\n",
       "    </tr>\n",
       "    <tr>\n",
       "      <th>3</th>\n",
       "      <td>0.012905</td>\n",
       "      <td>0.044487</td>\n",
       "      <td>0.030849</td>\n",
       "      <td>0.092567</td>\n",
       "      <td>0.105325</td>\n",
       "      <td>0.247904</td>\n",
       "      <td>0.188810</td>\n",
       "      <td>0.197999</td>\n",
       "      <td>0.159078</td>\n",
       "      <td>0.070147</td>\n",
       "      <td>...</td>\n",
       "      <td>0.034325</td>\n",
       "      <td>0.054550</td>\n",
       "      <td>0.186756</td>\n",
       "      <td>0.092743</td>\n",
       "      <td>0.230405</td>\n",
       "      <td>0.011470</td>\n",
       "      <td>0.185644</td>\n",
       "      <td>0.121467</td>\n",
       "      <td>0.134052</td>\n",
       "      <td>0.067020</td>\n",
       "    </tr>\n",
       "    <tr>\n",
       "      <th>4</th>\n",
       "      <td>0.029368</td>\n",
       "      <td>0.078059</td>\n",
       "      <td>0.013243</td>\n",
       "      <td>0.029705</td>\n",
       "      <td>0.016983</td>\n",
       "      <td>0.214772</td>\n",
       "      <td>0.241770</td>\n",
       "      <td>0.218507</td>\n",
       "      <td>0.107804</td>\n",
       "      <td>0.031810</td>\n",
       "      <td>...</td>\n",
       "      <td>0.000684</td>\n",
       "      <td>0.060369</td>\n",
       "      <td>0.222547</td>\n",
       "      <td>0.161388</td>\n",
       "      <td>0.136497</td>\n",
       "      <td>0.004967</td>\n",
       "      <td>0.115996</td>\n",
       "      <td>0.138079</td>\n",
       "      <td>0.128385</td>\n",
       "      <td>0.018484</td>\n",
       "    </tr>\n",
       "    <tr>\n",
       "      <th>5</th>\n",
       "      <td>0.001979</td>\n",
       "      <td>0.001635</td>\n",
       "      <td>0.066348</td>\n",
       "      <td>0.000213</td>\n",
       "      <td>0.049269</td>\n",
       "      <td>0.022713</td>\n",
       "      <td>0.048343</td>\n",
       "      <td>0.003677</td>\n",
       "      <td>0.097139</td>\n",
       "      <td>0.036385</td>\n",
       "      <td>...</td>\n",
       "      <td>0.047192</td>\n",
       "      <td>0.060568</td>\n",
       "      <td>0.017246</td>\n",
       "      <td>0.047739</td>\n",
       "      <td>0.028929</td>\n",
       "      <td>0.002909</td>\n",
       "      <td>0.008051</td>\n",
       "      <td>0.066265</td>\n",
       "      <td>0.065302</td>\n",
       "      <td>0.028695</td>\n",
       "    </tr>\n",
       "    <tr>\n",
       "      <th>6</th>\n",
       "      <td>0.014519</td>\n",
       "      <td>0.006885</td>\n",
       "      <td>0.024046</td>\n",
       "      <td>0.026336</td>\n",
       "      <td>0.000460</td>\n",
       "      <td>0.010136</td>\n",
       "      <td>0.034211</td>\n",
       "      <td>0.015243</td>\n",
       "      <td>0.081338</td>\n",
       "      <td>0.036494</td>\n",
       "      <td>...</td>\n",
       "      <td>0.028695</td>\n",
       "      <td>0.011141</td>\n",
       "      <td>0.021843</td>\n",
       "      <td>0.040666</td>\n",
       "      <td>0.075424</td>\n",
       "      <td>0.085568</td>\n",
       "      <td>0.149502</td>\n",
       "      <td>0.047390</td>\n",
       "      <td>0.327772</td>\n",
       "      <td>0.142638</td>\n",
       "    </tr>\n",
       "    <tr>\n",
       "      <th>7</th>\n",
       "      <td>0.022981</td>\n",
       "      <td>0.054614</td>\n",
       "      <td>0.045225</td>\n",
       "      <td>0.009088</td>\n",
       "      <td>0.016672</td>\n",
       "      <td>0.133614</td>\n",
       "      <td>0.186825</td>\n",
       "      <td>0.174006</td>\n",
       "      <td>0.019923</td>\n",
       "      <td>0.001277</td>\n",
       "      <td>...</td>\n",
       "      <td>0.042481</td>\n",
       "      <td>0.142063</td>\n",
       "      <td>0.187524</td>\n",
       "      <td>0.034127</td>\n",
       "      <td>0.033330</td>\n",
       "      <td>0.128369</td>\n",
       "      <td>0.147712</td>\n",
       "      <td>0.049768</td>\n",
       "      <td>0.003433</td>\n",
       "      <td>0.010839</td>\n",
       "    </tr>\n",
       "    <tr>\n",
       "      <th>8</th>\n",
       "      <td>0.027288</td>\n",
       "      <td>0.055944</td>\n",
       "      <td>0.043433</td>\n",
       "      <td>0.023383</td>\n",
       "      <td>0.077401</td>\n",
       "      <td>0.007365</td>\n",
       "      <td>0.033877</td>\n",
       "      <td>0.119367</td>\n",
       "      <td>0.019532</td>\n",
       "      <td>0.044132</td>\n",
       "      <td>...</td>\n",
       "      <td>0.098539</td>\n",
       "      <td>0.072788</td>\n",
       "      <td>0.058024</td>\n",
       "      <td>0.087789</td>\n",
       "      <td>0.085799</td>\n",
       "      <td>0.102302</td>\n",
       "      <td>0.142907</td>\n",
       "      <td>0.203195</td>\n",
       "      <td>0.150199</td>\n",
       "      <td>0.108817</td>\n",
       "    </tr>\n",
       "    <tr>\n",
       "      <th>9</th>\n",
       "      <td>0.022860</td>\n",
       "      <td>0.026364</td>\n",
       "      <td>0.056085</td>\n",
       "      <td>0.004912</td>\n",
       "      <td>0.074007</td>\n",
       "      <td>0.034274</td>\n",
       "      <td>0.082067</td>\n",
       "      <td>0.057330</td>\n",
       "      <td>0.048499</td>\n",
       "      <td>0.068071</td>\n",
       "      <td>...</td>\n",
       "      <td>0.102271</td>\n",
       "      <td>0.219247</td>\n",
       "      <td>0.117852</td>\n",
       "      <td>0.112388</td>\n",
       "      <td>0.060189</td>\n",
       "      <td>0.089422</td>\n",
       "      <td>0.107245</td>\n",
       "      <td>0.177872</td>\n",
       "      <td>0.081070</td>\n",
       "      <td>0.172109</td>\n",
       "    </tr>\n",
       "    <tr>\n",
       "      <th>10</th>\n",
       "      <td>0.091947</td>\n",
       "      <td>0.122887</td>\n",
       "      <td>0.048678</td>\n",
       "      <td>0.114985</td>\n",
       "      <td>0.018299</td>\n",
       "      <td>0.086697</td>\n",
       "      <td>0.083974</td>\n",
       "      <td>0.032263</td>\n",
       "      <td>0.024634</td>\n",
       "      <td>0.052160</td>\n",
       "      <td>...</td>\n",
       "      <td>0.040996</td>\n",
       "      <td>0.101696</td>\n",
       "      <td>0.103919</td>\n",
       "      <td>0.059973</td>\n",
       "      <td>0.047706</td>\n",
       "      <td>0.075377</td>\n",
       "      <td>0.015008</td>\n",
       "      <td>0.159645</td>\n",
       "      <td>0.044876</td>\n",
       "      <td>0.002717</td>\n",
       "    </tr>\n",
       "  </tbody>\n",
       "</table>\n",
       "<p>10 rows × 96 columns</p>\n",
       "</div>"
      ],
      "text/plain": [
       "    00:00_normalized  00:15_normalized  00:30_normalized  00:45_normalized  \\\n",
       "1           0.051196          0.104227          0.015455          0.069085   \n",
       "2           0.067998          0.022565          0.097602          0.005259   \n",
       "3           0.012905          0.044487          0.030849          0.092567   \n",
       "4           0.029368          0.078059          0.013243          0.029705   \n",
       "5           0.001979          0.001635          0.066348          0.000213   \n",
       "6           0.014519          0.006885          0.024046          0.026336   \n",
       "7           0.022981          0.054614          0.045225          0.009088   \n",
       "8           0.027288          0.055944          0.043433          0.023383   \n",
       "9           0.022860          0.026364          0.056085          0.004912   \n",
       "10          0.091947          0.122887          0.048678          0.114985   \n",
       "\n",
       "    01:00_normalized  01:15_normalized  01:30_normalized  01:45_normalized  \\\n",
       "1           0.093058          0.066785          0.197143          0.072276   \n",
       "2           0.048415          0.036407          0.008896          0.049678   \n",
       "3           0.105325          0.247904          0.188810          0.197999   \n",
       "4           0.016983          0.214772          0.241770          0.218507   \n",
       "5           0.049269          0.022713          0.048343          0.003677   \n",
       "6           0.000460          0.010136          0.034211          0.015243   \n",
       "7           0.016672          0.133614          0.186825          0.174006   \n",
       "8           0.077401          0.007365          0.033877          0.119367   \n",
       "9           0.074007          0.034274          0.082067          0.057330   \n",
       "10          0.018299          0.086697          0.083974          0.032263   \n",
       "\n",
       "    02:00_normalized  02:15_normalized  ...  21:30_normalized  \\\n",
       "1           0.020455          0.045768  ...          0.022520   \n",
       "2           0.009373          0.174062  ...          0.118037   \n",
       "3           0.159078          0.070147  ...          0.034325   \n",
       "4           0.107804          0.031810  ...          0.000684   \n",
       "5           0.097139          0.036385  ...          0.047192   \n",
       "6           0.081338          0.036494  ...          0.028695   \n",
       "7           0.019923          0.001277  ...          0.042481   \n",
       "8           0.019532          0.044132  ...          0.098539   \n",
       "9           0.048499          0.068071  ...          0.102271   \n",
       "10          0.024634          0.052160  ...          0.040996   \n",
       "\n",
       "    21:45_normalized  22:00_normalized  22:15_normalized  22:30_normalized  \\\n",
       "1           0.103638          0.096578          0.113066          0.181046   \n",
       "2           0.131462          0.094863          0.082967          0.009719   \n",
       "3           0.054550          0.186756          0.092743          0.230405   \n",
       "4           0.060369          0.222547          0.161388          0.136497   \n",
       "5           0.060568          0.017246          0.047739          0.028929   \n",
       "6           0.011141          0.021843          0.040666          0.075424   \n",
       "7           0.142063          0.187524          0.034127          0.033330   \n",
       "8           0.072788          0.058024          0.087789          0.085799   \n",
       "9           0.219247          0.117852          0.112388          0.060189   \n",
       "10          0.101696          0.103919          0.059973          0.047706   \n",
       "\n",
       "    22:45_normalized  23:00_normalized  23:15_normalized  23:30_normalized  \\\n",
       "1           0.018296          0.036675          0.139523          0.133674   \n",
       "2           0.033132          0.068915          0.063932          0.011771   \n",
       "3           0.011470          0.185644          0.121467          0.134052   \n",
       "4           0.004967          0.115996          0.138079          0.128385   \n",
       "5           0.002909          0.008051          0.066265          0.065302   \n",
       "6           0.085568          0.149502          0.047390          0.327772   \n",
       "7           0.128369          0.147712          0.049768          0.003433   \n",
       "8           0.102302          0.142907          0.203195          0.150199   \n",
       "9           0.089422          0.107245          0.177872          0.081070   \n",
       "10          0.075377          0.015008          0.159645          0.044876   \n",
       "\n",
       "    23:45_normalized  \n",
       "1           0.070241  \n",
       "2           0.102841  \n",
       "3           0.067020  \n",
       "4           0.018484  \n",
       "5           0.028695  \n",
       "6           0.142638  \n",
       "7           0.010839  \n",
       "8           0.108817  \n",
       "9           0.172109  \n",
       "10          0.002717  \n",
       "\n",
       "[10 rows x 96 columns]"
      ]
     },
     "execution_count": 57,
     "metadata": {},
     "output_type": "execute_result"
    }
   ],
   "source": [
    "showdata.iloc[:,101:198]"
   ]
  },
  {
   "cell_type": "code",
   "execution_count": 65,
   "id": "920183a8-5997-4987-9037-c2e9f0d8ccd1",
   "metadata": {
    "tags": []
   },
   "outputs": [
    {
     "name": "stdout",
     "output_type": "stream",
     "text": [
      "0.0\n",
      "1.0\n"
     ]
    }
   ],
   "source": [
    "global_min1 = showdata.iloc[:,101:198].min().min()\n",
    "global_max1 = showdata.iloc[:,101:198].max().max()\n",
    "print(global_min1)\n",
    "print(global_max1)"
   ]
  },
  {
   "cell_type": "code",
   "execution_count": 78,
   "id": "3d821056-8d75-45b3-914d-a63a239b9808",
   "metadata": {
    "tags": []
   },
   "outputs": [
    {
     "name": "stdout",
     "output_type": "stream",
     "text": [
      "[0.111255676, 0.10558754, 0.27428824, 0.29754514, 0.11580185, 0.09757865, 0.12473786, 0.12722388, 0.11516014, 0.29462433]\n"
     ]
    },
    {
     "data": {
      "text/html": [
       "<div style=\"width:100%;\"><div style=\"position:relative;width:100%;height:0;padding-bottom:60%;\"><span style=\"color:#565656\">Make this Notebook Trusted to load map: File -> Trust Notebook</span><iframe srcdoc=\"&lt;!DOCTYPE html&gt;\n",
       "&lt;html&gt;\n",
       "&lt;head&gt;\n",
       "    \n",
       "    &lt;meta http-equiv=&quot;content-type&quot; content=&quot;text/html; charset=UTF-8&quot; /&gt;\n",
       "    \n",
       "        &lt;script&gt;\n",
       "            L_NO_TOUCH = false;\n",
       "            L_DISABLE_3D = false;\n",
       "        &lt;/script&gt;\n",
       "    \n",
       "    &lt;style&gt;html, body {width: 100%;height: 100%;margin: 0;padding: 0;}&lt;/style&gt;\n",
       "    &lt;style&gt;#map {position:absolute;top:0;bottom:0;right:0;left:0;}&lt;/style&gt;\n",
       "    &lt;script src=&quot;https://cdn.jsdelivr.net/npm/leaflet@1.9.3/dist/leaflet.js&quot;&gt;&lt;/script&gt;\n",
       "    &lt;script src=&quot;https://code.jquery.com/jquery-3.7.1.min.js&quot;&gt;&lt;/script&gt;\n",
       "    &lt;script src=&quot;https://cdn.jsdelivr.net/npm/bootstrap@5.2.2/dist/js/bootstrap.bundle.min.js&quot;&gt;&lt;/script&gt;\n",
       "    &lt;script src=&quot;https://cdnjs.cloudflare.com/ajax/libs/Leaflet.awesome-markers/2.0.2/leaflet.awesome-markers.js&quot;&gt;&lt;/script&gt;\n",
       "    &lt;link rel=&quot;stylesheet&quot; href=&quot;https://cdn.jsdelivr.net/npm/leaflet@1.9.3/dist/leaflet.css&quot;/&gt;\n",
       "    &lt;link rel=&quot;stylesheet&quot; href=&quot;https://cdn.jsdelivr.net/npm/bootstrap@5.2.2/dist/css/bootstrap.min.css&quot;/&gt;\n",
       "    &lt;link rel=&quot;stylesheet&quot; href=&quot;https://netdna.bootstrapcdn.com/bootstrap/3.0.0/css/bootstrap.min.css&quot;/&gt;\n",
       "    &lt;link rel=&quot;stylesheet&quot; href=&quot;https://cdn.jsdelivr.net/npm/@fortawesome/fontawesome-free@6.2.0/css/all.min.css&quot;/&gt;\n",
       "    &lt;link rel=&quot;stylesheet&quot; href=&quot;https://cdnjs.cloudflare.com/ajax/libs/Leaflet.awesome-markers/2.0.2/leaflet.awesome-markers.css&quot;/&gt;\n",
       "    &lt;link rel=&quot;stylesheet&quot; href=&quot;https://cdn.jsdelivr.net/gh/python-visualization/folium/folium/templates/leaflet.awesome.rotate.min.css&quot;/&gt;\n",
       "    \n",
       "            &lt;meta name=&quot;viewport&quot; content=&quot;width=device-width,\n",
       "                initial-scale=1.0, maximum-scale=1.0, user-scalable=no&quot; /&gt;\n",
       "            &lt;style&gt;\n",
       "                #map_3ce945196a1ce7069cbbbe072de9880e {\n",
       "                    position: relative;\n",
       "                    width: 100.0%;\n",
       "                    height: 100.0%;\n",
       "                    left: 0.0%;\n",
       "                    top: 0.0%;\n",
       "                }\n",
       "                .leaflet-container { font-size: 1rem; }\n",
       "            &lt;/style&gt;\n",
       "        \n",
       "    &lt;script src=&quot;https://cdn.jsdelivr.net/gh/python-visualization/folium@main/folium/templates/leaflet_heat.min.js&quot;&gt;&lt;/script&gt;\n",
       "&lt;/head&gt;\n",
       "&lt;body&gt;\n",
       "    \n",
       "    \n",
       "            &lt;div class=&quot;folium-map&quot; id=&quot;map_3ce945196a1ce7069cbbbe072de9880e&quot; &gt;&lt;/div&gt;\n",
       "        \n",
       "&lt;/body&gt;\n",
       "&lt;script&gt;\n",
       "    \n",
       "    \n",
       "            var map_3ce945196a1ce7069cbbbe072de9880e = L.map(\n",
       "                &quot;map_3ce945196a1ce7069cbbbe072de9880e&quot;,\n",
       "                {\n",
       "                    center: [51.265645, 0.7600395],\n",
       "                    crs: L.CRS.EPSG3857,\n",
       "                    zoom: 10,\n",
       "                    zoomControl: true,\n",
       "                    preferCanvas: false,\n",
       "                }\n",
       "            );\n",
       "\n",
       "            \n",
       "\n",
       "        \n",
       "    \n",
       "            var tile_layer_d41a75f2ef69e4d83e68b3875e044d35 = L.tileLayer(\n",
       "                &quot;https://tile.openstreetmap.org/{z}/{x}/{y}.png&quot;,\n",
       "                {&quot;attribution&quot;: &quot;\\u0026copy; \\u003ca href=\\&quot;https://www.openstreetmap.org/copyright\\&quot;\\u003eOpenStreetMap\\u003c/a\\u003e contributors&quot;, &quot;detectRetina&quot;: false, &quot;maxNativeZoom&quot;: 19, &quot;maxZoom&quot;: 19, &quot;minZoom&quot;: 0, &quot;noWrap&quot;: false, &quot;opacity&quot;: 1, &quot;subdomains&quot;: &quot;abc&quot;, &quot;tms&quot;: false}\n",
       "            );\n",
       "        \n",
       "    \n",
       "            tile_layer_d41a75f2ef69e4d83e68b3875e044d35.addTo(map_3ce945196a1ce7069cbbbe072de9880e);\n",
       "        \n",
       "    \n",
       "            var heat_map_f9ba3fd435682067a2583c63b93750b0 = L.heatLayer(\n",
       "                [[51.3095, 0.393356, 0.111255676], [51.42118, 0.234001, 0.10558754], [51.42055, 0.343562, 0.27428824], [51.41359, 0.366058, 0.29754514], [51.39994, 0.433861, 0.11580185], [51.11011, 1.286078, 0.09757865], [51.29545, 0.52817, 0.12473786], [51.32647, 0.530954, 0.12722388], [51.32574, 0.559163, 0.11516014], [51.30896, 0.380471, 0.29462433]],\n",
       "                {&quot;blur&quot;: 15, &quot;maxZoom&quot;: 18, &quot;minOpacity&quot;: 0.5, &quot;radius&quot;: 25}\n",
       "            );\n",
       "        \n",
       "    \n",
       "            heat_map_f9ba3fd435682067a2583c63b93750b0.addTo(map_3ce945196a1ce7069cbbbe072de9880e);\n",
       "        \n",
       "&lt;/script&gt;\n",
       "&lt;/html&gt;\" style=\"position:absolute;width:100%;height:100%;left:0;top:0;border:none !important;\" allowfullscreen webkitallowfullscreen mozallowfullscreen></iframe></div></div>"
      ],
      "text/plain": [
       "<folium.folium.Map at 0x7fd3037ada80>"
      ]
     },
     "execution_count": 78,
     "metadata": {},
     "output_type": "execute_result"
    }
   ],
   "source": [
    "\n",
    "\n",
    "\n",
    "# Use your actual data\n",
    "locations = showdata[['latitude', 'longitude']]\n",
    "weights = showdata[\"Max Residual\"].tolist()  # Convert to list for folium\n",
    "data_1 = list(zip(locations['latitude'], locations['longitude'], weights))\n",
    "print(weights)\n",
    "center_lat = (locations['latitude'].max()+locations['latitude'].min())/2\n",
    "center_log = (locations['longitude'].max()+locations['longitude'].min())/2\n",
    "\n",
    "# Create the map\n",
    "map_hooray1 = folium.Map(location=[center_lat, center_log], zoom_start=10)\n",
    "\n",
    "#gradient = {0.0: 'blue', 0.015: 'cyan', 0.03: 'lime', 0.045: 'yellow', 0.06: 'red'}\n",
    "\n",
    "#heatmap = HeatMap(data, min_opacity=0.5, radius=25, blur=10, max_zoom=1, gradient=gradient)\n",
    "\n",
    "# Create a HeatMap\n",
    "heatmap1 = HeatMap(data_1)\n",
    "map_hooray1.add_child(heatmap1)\n",
    "\n",
    "map_hooray1\n"
   ]
  },
  {
   "cell_type": "code",
   "execution_count": 83,
   "id": "31044ebc-5406-41e0-af4b-c50bc4aaca76",
   "metadata": {
    "tags": []
   },
   "outputs": [
    {
     "data": {
      "text/plain": [
       "[(51.3095, 0.393356, 0.111255676),\n",
       " (51.42118, 0.234001, 0.10558754),\n",
       " (51.42055, 0.343562, 0.27428824),\n",
       " (51.41359, 0.366058, 0.29754514),\n",
       " (51.39994, 0.433861, 0.11580185),\n",
       " (51.11011, 1.286078, 0.09757865),\n",
       " (51.29545, 0.52817, 0.12473786),\n",
       " (51.32647, 0.530954, 0.12722388),\n",
       " (51.32574, 0.559163, 0.11516014),\n",
       " (51.30896, 0.380471, 0.29462433)]"
      ]
     },
     "execution_count": 83,
     "metadata": {},
     "output_type": "execute_result"
    }
   ],
   "source": [
    "data_1"
   ]
  },
  {
   "cell_type": "code",
   "execution_count": 84,
   "id": "5eac2ad9-4fa7-42d6-84f4-cff300ca0e22",
   "metadata": {
    "tags": []
   },
   "outputs": [
    {
     "data": {
      "text/plain": [
       "[(51.3095, 0.393356, 1),\n",
       " (51.42118, 0.234001, 1),\n",
       " (51.42055, 0.343562, 1),\n",
       " (51.41359, 0.366058, 1),\n",
       " (51.39994, 0.433861, 1),\n",
       " (51.11011, 1.286078, 1),\n",
       " (51.29545, 0.52817, 1),\n",
       " (51.32647, 0.530954, 1),\n",
       " (51.32574, 0.559163, 1),\n",
       " (51.30896, 0.380471, 1)]"
      ]
     },
     "execution_count": 84,
     "metadata": {},
     "output_type": "execute_result"
    }
   ],
   "source": [
    "data_2"
   ]
  },
  {
   "cell_type": "code",
   "execution_count": 89,
   "id": "f230c3f5-0e20-4a63-a3d5-f52f4ab63b2f",
   "metadata": {
    "tags": []
   },
   "outputs": [
    {
     "name": "stdout",
     "output_type": "stream",
     "text": [
      "[1, 1, 1, 1, 1, 1, 1, 1, 1, 1]\n"
     ]
    },
    {
     "ename": "TypeError",
     "evalue": "update_heatmap() missing 1 required positional argument: 'center_location'",
     "output_type": "error",
     "traceback": [
      "\u001b[0;31m---------------------------------------------------------------------------\u001b[0m",
      "\u001b[0;31mTypeError\u001b[0m                                 Traceback (most recent call last)",
      "Cell \u001b[0;32mIn[89], line 44\u001b[0m\n\u001b[1;32m     40\u001b[0m     fmap\u001b[38;5;241m.\u001b[39madd_child(heatmap)\n\u001b[1;32m     42\u001b[0m     \u001b[38;5;28;01mreturn\u001b[39;00m fmap\n\u001b[0;32m---> 44\u001b[0m map_hooray8 \u001b[38;5;241m=\u001b[39m \u001b[43mupdate_heatmap\u001b[49m\u001b[43m(\u001b[49m\u001b[43mdata_2\u001b[49m\u001b[43m)\u001b[49m\n\u001b[1;32m     46\u001b[0m map_hooray8\n",
      "\u001b[0;31mTypeError\u001b[0m: update_heatmap() missing 1 required positional argument: 'center_location'"
     ]
    }
   ],
   "source": [
    "# Use your actual data\n",
    "locations = showdata[['latitude', 'longitude']]\n",
    "weights_2 = [1,1,1,1,1,1,1,1,1,1]\n",
    "# weights_2 = showdata[\"01:00_normalized\"].tolist()  # Convert to list for folium\n",
    "data_2 = [(51.3095, 0.393356, 0),\n",
    " (51.42118, 0.234001, 0),\n",
    " (51.42055, 0.343562, 0),\n",
    " (51.41359, 0.366058, 0),\n",
    " (51.39994, 0.433861, 0),\n",
    " (51.11011, 1.286078, 0),\n",
    " (51.29545, 0.52817, 0),\n",
    " (51.32647, 0.530954, 0),\n",
    " (51.32574, 0.559163, 1),\n",
    " (51.30896, 0.380471, 1)]\n",
    "print(weights_2)\n",
    "center_lat = (locations['latitude'].max()+locations['latitude'].min())/2\n",
    "center_log = (locations['longitude'].max()+locations['longitude'].min())/2\n",
    "\n",
    "# Create the map\n",
    "map_hooray8 = folium.Map(location=[center_lat, center_log], zoom_start=10)\n",
    "\n",
    "#gradient = {0.0: 'blue', 0.015: 'cyan', 0.03: 'lime', 0.045: 'yellow', 0.06: 'red'}\n",
    "\n",
    "#heatmap = HeatMap(data, min_opacity=0.5, radius=25, blur=10, max_zoom=1, gradient=gradient)\n",
    "\n",
    "lat_longs = [\n",
    "    [51.507351, -0.127758, 0.5], # london\n",
    "    [53.480759, -2.242631,0.8], # Manchester\n",
    "    [53.408371, -2.991573,1.0], # Liverpool\n",
    "    [52.489471, -1.898575,0.5], # Birmingham\n",
    "    [51.481583, -3.179090,0.2], #Cardif\n",
    "]\n",
    "\n",
    "\n",
    "updated_map = update_heatmap(new_data, new_center_location)\n",
    "\n",
    "HeatMap(data_2).add_to(map_hooray8)\n",
    "\n",
    "map_hooray8\n",
    "\n"
   ]
  },
  {
   "cell_type": "code",
   "execution_count": 80,
   "id": "7960b63c-df1e-4c9e-b2dc-fffc3ad64115",
   "metadata": {
    "tags": []
   },
   "outputs": [
    {
     "name": "stdout",
     "output_type": "stream",
     "text": [
      "[0.020455447006296645, 0.009373054429481316, 0.15907762038900863, 0.10780352703645772, 0.0971388635151662, 0.08133821192579978, 0.019923055264780755, 0.01953227766376642, 0.048499475534652614, 0.024634028455928055]\n"
     ]
    },
    {
     "data": {
      "text/html": [
       "<div style=\"width:100%;\"><div style=\"position:relative;width:100%;height:0;padding-bottom:60%;\"><span style=\"color:#565656\">Make this Notebook Trusted to load map: File -> Trust Notebook</span><iframe srcdoc=\"&lt;!DOCTYPE html&gt;\n",
       "&lt;html&gt;\n",
       "&lt;head&gt;\n",
       "    \n",
       "    &lt;meta http-equiv=&quot;content-type&quot; content=&quot;text/html; charset=UTF-8&quot; /&gt;\n",
       "    \n",
       "        &lt;script&gt;\n",
       "            L_NO_TOUCH = false;\n",
       "            L_DISABLE_3D = false;\n",
       "        &lt;/script&gt;\n",
       "    \n",
       "    &lt;style&gt;html, body {width: 100%;height: 100%;margin: 0;padding: 0;}&lt;/style&gt;\n",
       "    &lt;style&gt;#map {position:absolute;top:0;bottom:0;right:0;left:0;}&lt;/style&gt;\n",
       "    &lt;script src=&quot;https://cdn.jsdelivr.net/npm/leaflet@1.9.3/dist/leaflet.js&quot;&gt;&lt;/script&gt;\n",
       "    &lt;script src=&quot;https://code.jquery.com/jquery-3.7.1.min.js&quot;&gt;&lt;/script&gt;\n",
       "    &lt;script src=&quot;https://cdn.jsdelivr.net/npm/bootstrap@5.2.2/dist/js/bootstrap.bundle.min.js&quot;&gt;&lt;/script&gt;\n",
       "    &lt;script src=&quot;https://cdnjs.cloudflare.com/ajax/libs/Leaflet.awesome-markers/2.0.2/leaflet.awesome-markers.js&quot;&gt;&lt;/script&gt;\n",
       "    &lt;link rel=&quot;stylesheet&quot; href=&quot;https://cdn.jsdelivr.net/npm/leaflet@1.9.3/dist/leaflet.css&quot;/&gt;\n",
       "    &lt;link rel=&quot;stylesheet&quot; href=&quot;https://cdn.jsdelivr.net/npm/bootstrap@5.2.2/dist/css/bootstrap.min.css&quot;/&gt;\n",
       "    &lt;link rel=&quot;stylesheet&quot; href=&quot;https://netdna.bootstrapcdn.com/bootstrap/3.0.0/css/bootstrap.min.css&quot;/&gt;\n",
       "    &lt;link rel=&quot;stylesheet&quot; href=&quot;https://cdn.jsdelivr.net/npm/@fortawesome/fontawesome-free@6.2.0/css/all.min.css&quot;/&gt;\n",
       "    &lt;link rel=&quot;stylesheet&quot; href=&quot;https://cdnjs.cloudflare.com/ajax/libs/Leaflet.awesome-markers/2.0.2/leaflet.awesome-markers.css&quot;/&gt;\n",
       "    &lt;link rel=&quot;stylesheet&quot; href=&quot;https://cdn.jsdelivr.net/gh/python-visualization/folium/folium/templates/leaflet.awesome.rotate.min.css&quot;/&gt;\n",
       "    \n",
       "            &lt;meta name=&quot;viewport&quot; content=&quot;width=device-width,\n",
       "                initial-scale=1.0, maximum-scale=1.0, user-scalable=no&quot; /&gt;\n",
       "            &lt;style&gt;\n",
       "                #map_d40d4290a5bb3bd806b325f3cc7bf07e {\n",
       "                    position: relative;\n",
       "                    width: 100.0%;\n",
       "                    height: 100.0%;\n",
       "                    left: 0.0%;\n",
       "                    top: 0.0%;\n",
       "                }\n",
       "                .leaflet-container { font-size: 1rem; }\n",
       "            &lt;/style&gt;\n",
       "        \n",
       "    &lt;script src=&quot;https://cdn.jsdelivr.net/gh/python-visualization/folium@main/folium/templates/leaflet_heat.min.js&quot;&gt;&lt;/script&gt;\n",
       "&lt;/head&gt;\n",
       "&lt;body&gt;\n",
       "    \n",
       "    \n",
       "            &lt;div class=&quot;folium-map&quot; id=&quot;map_d40d4290a5bb3bd806b325f3cc7bf07e&quot; &gt;&lt;/div&gt;\n",
       "        \n",
       "&lt;/body&gt;\n",
       "&lt;script&gt;\n",
       "    \n",
       "    \n",
       "            var map_d40d4290a5bb3bd806b325f3cc7bf07e = L.map(\n",
       "                &quot;map_d40d4290a5bb3bd806b325f3cc7bf07e&quot;,\n",
       "                {\n",
       "                    center: [51.265645, 0.7600395],\n",
       "                    crs: L.CRS.EPSG3857,\n",
       "                    zoom: 10,\n",
       "                    zoomControl: true,\n",
       "                    preferCanvas: false,\n",
       "                }\n",
       "            );\n",
       "\n",
       "            \n",
       "\n",
       "        \n",
       "    \n",
       "            var tile_layer_8f798c5693ef3006dda8cce306da3c63 = L.tileLayer(\n",
       "                &quot;https://tile.openstreetmap.org/{z}/{x}/{y}.png&quot;,\n",
       "                {&quot;attribution&quot;: &quot;\\u0026copy; \\u003ca href=\\&quot;https://www.openstreetmap.org/copyright\\&quot;\\u003eOpenStreetMap\\u003c/a\\u003e contributors&quot;, &quot;detectRetina&quot;: false, &quot;maxNativeZoom&quot;: 19, &quot;maxZoom&quot;: 19, &quot;minZoom&quot;: 0, &quot;noWrap&quot;: false, &quot;opacity&quot;: 1, &quot;subdomains&quot;: &quot;abc&quot;, &quot;tms&quot;: false}\n",
       "            );\n",
       "        \n",
       "    \n",
       "            tile_layer_8f798c5693ef3006dda8cce306da3c63.addTo(map_d40d4290a5bb3bd806b325f3cc7bf07e);\n",
       "        \n",
       "    \n",
       "            var heat_map_78c8fc1bd775665e3712534b81cf29a4 = L.heatLayer(\n",
       "                [[51.3095, 0.393356, 0.020455447006296645], [51.42118, 0.234001, 0.009373054429481316], [51.42055, 0.343562, 0.15907762038900863], [51.41359, 0.366058, 0.10780352703645772], [51.39994, 0.433861, 0.0971388635151662], [51.11011, 1.286078, 0.08133821192579978], [51.29545, 0.52817, 0.019923055264780755], [51.32647, 0.530954, 0.01953227766376642], [51.32574, 0.559163, 0.048499475534652614], [51.30896, 0.380471, 0.024634028455928055]],\n",
       "                {&quot;blur&quot;: 15, &quot;maxZoom&quot;: 18, &quot;minOpacity&quot;: 0.5, &quot;radius&quot;: 25}\n",
       "            );\n",
       "        \n",
       "    \n",
       "            heat_map_78c8fc1bd775665e3712534b81cf29a4.addTo(map_d40d4290a5bb3bd806b325f3cc7bf07e);\n",
       "        \n",
       "&lt;/script&gt;\n",
       "&lt;/html&gt;\" style=\"position:absolute;width:100%;height:100%;left:0;top:0;border:none !important;\" allowfullscreen webkitallowfullscreen mozallowfullscreen></iframe></div></div>"
      ],
      "text/plain": [
       "<folium.folium.Map at 0x7fd3037aed70>"
      ]
     },
     "execution_count": 80,
     "metadata": {},
     "output_type": "execute_result"
    }
   ],
   "source": [
    "# Use your actual data\n",
    "locations = showdata[['latitude', 'longitude']]\n",
    "weights = showdata[\"02:00_normalized\"].tolist()  # Convert to list for folium\n",
    "data_3 = list(zip(locations['latitude'], locations['longitude'], weights))\n",
    "print(weights)\n",
    "center_lat = (locations['latitude'].max()+locations['latitude'].min())/2\n",
    "center_log = (locations['longitude'].max()+locations['longitude'].min())/2\n",
    "\n",
    "# Create the map\n",
    "map_hooray3 = folium.Map(location=[center_lat, center_log], zoom_start=10)\n",
    "\n",
    "#gradient = {0.0: 'blue', 0.015: 'cyan', 0.03: 'lime', 0.045: 'yellow', 0.06: 'red'}\n",
    "\n",
    "#heatmap = HeatMap(data, min_opacity=0.5, radius=25, blur=10, max_zoom=1, gradient=gradient)\n",
    "\n",
    "\n",
    "gradient = {\n",
    "    0.1: 'blue', \n",
    "    0.4: 'cyan', \n",
    "    0.5: 'lime', \n",
    "    0.6: 'yellow', \n",
    "    0.7: 'orange',\n",
    "    0.90: 'red'\n",
    "}\n",
    "\n",
    "# Create a HeatMap\n",
    "heatmap3 = HeatMap(data_3)\n",
    "map_hooray3.add_child(heatmap3)\n",
    "\n",
    "map_hooray3\n"
   ]
  },
  {
   "cell_type": "code",
   "execution_count": null,
   "id": "a0162c41-3769-479d-81ef-4010aa34c599",
   "metadata": {},
   "outputs": [],
   "source": []
  },
  {
   "cell_type": "code",
   "execution_count": 107,
   "id": "bb8ccce8-6fd4-4da3-ba61-90a7fcb6fd39",
   "metadata": {
    "tags": []
   },
   "outputs": [
    {
     "data": {
      "application/vnd.plotly.v1+json": {
       "config": {
        "plotlyServerURL": "https://plot.ly"
       },
       "data": [
        {
         "colorscale": [
          [
           0,
           "blue"
          ],
          [
           0.3,
           "lime"
          ],
          [
           0.5,
           "yellow"
          ],
          [
           0.7,
           "orange"
          ],
          [
           1,
           "red"
          ]
         ],
         "lat": [
          51.3095,
          51.42118,
          51.42055,
          51.41359,
          51.39994,
          51.11011,
          51.29545,
          51.32647,
          51.32574,
          51.30896
         ],
         "lon": [
          0.393356,
          0.234001,
          0.343562,
          0.366058,
          0.433861,
          1.286078,
          0.52817,
          0.530954,
          0.559163,
          0.380471
         ],
         "radius": 40,
         "type": "densitymapbox",
         "z": [
          0.046966822506362534,
          0.09934056458419366,
          0.09857814689154876,
          0.19697139501230446,
          0.023134736979620193,
          0.04663317000779466,
          0.056594754957240805,
          0.0016483198553117159,
          0.03660662684906271,
          0.0041759273842051714
         ],
         "zmax": 1,
         "zmin": 0
        }
       ],
       "layout": {
        "autosize": true,
        "mapbox": {
         "bearing": 0,
         "center": {
          "lat": 51.268117855496456,
          "lon": 0.6776768916311084
         },
         "pitch": 0,
         "style": "carto-positron",
         "zoom": 8.094802868203958
        },
        "margin": {
         "b": 0,
         "l": 0,
         "r": 0,
         "t": 0
        },
        "template": {
         "data": {
          "bar": [
           {
            "error_x": {
             "color": "#2a3f5f"
            },
            "error_y": {
             "color": "#2a3f5f"
            },
            "marker": {
             "line": {
              "color": "#E5ECF6",
              "width": 0.5
             },
             "pattern": {
              "fillmode": "overlay",
              "size": 10,
              "solidity": 0.2
             }
            },
            "type": "bar"
           }
          ],
          "barpolar": [
           {
            "marker": {
             "line": {
              "color": "#E5ECF6",
              "width": 0.5
             },
             "pattern": {
              "fillmode": "overlay",
              "size": 10,
              "solidity": 0.2
             }
            },
            "type": "barpolar"
           }
          ],
          "carpet": [
           {
            "aaxis": {
             "endlinecolor": "#2a3f5f",
             "gridcolor": "white",
             "linecolor": "white",
             "minorgridcolor": "white",
             "startlinecolor": "#2a3f5f"
            },
            "baxis": {
             "endlinecolor": "#2a3f5f",
             "gridcolor": "white",
             "linecolor": "white",
             "minorgridcolor": "white",
             "startlinecolor": "#2a3f5f"
            },
            "type": "carpet"
           }
          ],
          "choropleth": [
           {
            "colorbar": {
             "outlinewidth": 0,
             "ticks": ""
            },
            "type": "choropleth"
           }
          ],
          "contour": [
           {
            "colorbar": {
             "outlinewidth": 0,
             "ticks": ""
            },
            "colorscale": [
             [
              0,
              "#0d0887"
             ],
             [
              0.1111111111111111,
              "#46039f"
             ],
             [
              0.2222222222222222,
              "#7201a8"
             ],
             [
              0.3333333333333333,
              "#9c179e"
             ],
             [
              0.4444444444444444,
              "#bd3786"
             ],
             [
              0.5555555555555556,
              "#d8576b"
             ],
             [
              0.6666666666666666,
              "#ed7953"
             ],
             [
              0.7777777777777778,
              "#fb9f3a"
             ],
             [
              0.8888888888888888,
              "#fdca26"
             ],
             [
              1,
              "#f0f921"
             ]
            ],
            "type": "contour"
           }
          ],
          "contourcarpet": [
           {
            "colorbar": {
             "outlinewidth": 0,
             "ticks": ""
            },
            "type": "contourcarpet"
           }
          ],
          "heatmap": [
           {
            "colorbar": {
             "outlinewidth": 0,
             "ticks": ""
            },
            "colorscale": [
             [
              0,
              "#0d0887"
             ],
             [
              0.1111111111111111,
              "#46039f"
             ],
             [
              0.2222222222222222,
              "#7201a8"
             ],
             [
              0.3333333333333333,
              "#9c179e"
             ],
             [
              0.4444444444444444,
              "#bd3786"
             ],
             [
              0.5555555555555556,
              "#d8576b"
             ],
             [
              0.6666666666666666,
              "#ed7953"
             ],
             [
              0.7777777777777778,
              "#fb9f3a"
             ],
             [
              0.8888888888888888,
              "#fdca26"
             ],
             [
              1,
              "#f0f921"
             ]
            ],
            "type": "heatmap"
           }
          ],
          "heatmapgl": [
           {
            "colorbar": {
             "outlinewidth": 0,
             "ticks": ""
            },
            "colorscale": [
             [
              0,
              "#0d0887"
             ],
             [
              0.1111111111111111,
              "#46039f"
             ],
             [
              0.2222222222222222,
              "#7201a8"
             ],
             [
              0.3333333333333333,
              "#9c179e"
             ],
             [
              0.4444444444444444,
              "#bd3786"
             ],
             [
              0.5555555555555556,
              "#d8576b"
             ],
             [
              0.6666666666666666,
              "#ed7953"
             ],
             [
              0.7777777777777778,
              "#fb9f3a"
             ],
             [
              0.8888888888888888,
              "#fdca26"
             ],
             [
              1,
              "#f0f921"
             ]
            ],
            "type": "heatmapgl"
           }
          ],
          "histogram": [
           {
            "marker": {
             "pattern": {
              "fillmode": "overlay",
              "size": 10,
              "solidity": 0.2
             }
            },
            "type": "histogram"
           }
          ],
          "histogram2d": [
           {
            "colorbar": {
             "outlinewidth": 0,
             "ticks": ""
            },
            "colorscale": [
             [
              0,
              "#0d0887"
             ],
             [
              0.1111111111111111,
              "#46039f"
             ],
             [
              0.2222222222222222,
              "#7201a8"
             ],
             [
              0.3333333333333333,
              "#9c179e"
             ],
             [
              0.4444444444444444,
              "#bd3786"
             ],
             [
              0.5555555555555556,
              "#d8576b"
             ],
             [
              0.6666666666666666,
              "#ed7953"
             ],
             [
              0.7777777777777778,
              "#fb9f3a"
             ],
             [
              0.8888888888888888,
              "#fdca26"
             ],
             [
              1,
              "#f0f921"
             ]
            ],
            "type": "histogram2d"
           }
          ],
          "histogram2dcontour": [
           {
            "colorbar": {
             "outlinewidth": 0,
             "ticks": ""
            },
            "colorscale": [
             [
              0,
              "#0d0887"
             ],
             [
              0.1111111111111111,
              "#46039f"
             ],
             [
              0.2222222222222222,
              "#7201a8"
             ],
             [
              0.3333333333333333,
              "#9c179e"
             ],
             [
              0.4444444444444444,
              "#bd3786"
             ],
             [
              0.5555555555555556,
              "#d8576b"
             ],
             [
              0.6666666666666666,
              "#ed7953"
             ],
             [
              0.7777777777777778,
              "#fb9f3a"
             ],
             [
              0.8888888888888888,
              "#fdca26"
             ],
             [
              1,
              "#f0f921"
             ]
            ],
            "type": "histogram2dcontour"
           }
          ],
          "mesh3d": [
           {
            "colorbar": {
             "outlinewidth": 0,
             "ticks": ""
            },
            "type": "mesh3d"
           }
          ],
          "parcoords": [
           {
            "line": {
             "colorbar": {
              "outlinewidth": 0,
              "ticks": ""
             }
            },
            "type": "parcoords"
           }
          ],
          "pie": [
           {
            "automargin": true,
            "type": "pie"
           }
          ],
          "scatter": [
           {
            "fillpattern": {
             "fillmode": "overlay",
             "size": 10,
             "solidity": 0.2
            },
            "type": "scatter"
           }
          ],
          "scatter3d": [
           {
            "line": {
             "colorbar": {
              "outlinewidth": 0,
              "ticks": ""
             }
            },
            "marker": {
             "colorbar": {
              "outlinewidth": 0,
              "ticks": ""
             }
            },
            "type": "scatter3d"
           }
          ],
          "scattercarpet": [
           {
            "marker": {
             "colorbar": {
              "outlinewidth": 0,
              "ticks": ""
             }
            },
            "type": "scattercarpet"
           }
          ],
          "scattergeo": [
           {
            "marker": {
             "colorbar": {
              "outlinewidth": 0,
              "ticks": ""
             }
            },
            "type": "scattergeo"
           }
          ],
          "scattergl": [
           {
            "marker": {
             "colorbar": {
              "outlinewidth": 0,
              "ticks": ""
             }
            },
            "type": "scattergl"
           }
          ],
          "scattermapbox": [
           {
            "marker": {
             "colorbar": {
              "outlinewidth": 0,
              "ticks": ""
             }
            },
            "type": "scattermapbox"
           }
          ],
          "scatterpolar": [
           {
            "marker": {
             "colorbar": {
              "outlinewidth": 0,
              "ticks": ""
             }
            },
            "type": "scatterpolar"
           }
          ],
          "scatterpolargl": [
           {
            "marker": {
             "colorbar": {
              "outlinewidth": 0,
              "ticks": ""
             }
            },
            "type": "scatterpolargl"
           }
          ],
          "scatterternary": [
           {
            "marker": {
             "colorbar": {
              "outlinewidth": 0,
              "ticks": ""
             }
            },
            "type": "scatterternary"
           }
          ],
          "surface": [
           {
            "colorbar": {
             "outlinewidth": 0,
             "ticks": ""
            },
            "colorscale": [
             [
              0,
              "#0d0887"
             ],
             [
              0.1111111111111111,
              "#46039f"
             ],
             [
              0.2222222222222222,
              "#7201a8"
             ],
             [
              0.3333333333333333,
              "#9c179e"
             ],
             [
              0.4444444444444444,
              "#bd3786"
             ],
             [
              0.5555555555555556,
              "#d8576b"
             ],
             [
              0.6666666666666666,
              "#ed7953"
             ],
             [
              0.7777777777777778,
              "#fb9f3a"
             ],
             [
              0.8888888888888888,
              "#fdca26"
             ],
             [
              1,
              "#f0f921"
             ]
            ],
            "type": "surface"
           }
          ],
          "table": [
           {
            "cells": {
             "fill": {
              "color": "#EBF0F8"
             },
             "line": {
              "color": "white"
             }
            },
            "header": {
             "fill": {
              "color": "#C8D4E3"
             },
             "line": {
              "color": "white"
             }
            },
            "type": "table"
           }
          ]
         },
         "layout": {
          "annotationdefaults": {
           "arrowcolor": "#2a3f5f",
           "arrowhead": 0,
           "arrowwidth": 1
          },
          "autotypenumbers": "strict",
          "coloraxis": {
           "colorbar": {
            "outlinewidth": 0,
            "ticks": ""
           }
          },
          "colorscale": {
           "diverging": [
            [
             0,
             "#8e0152"
            ],
            [
             0.1,
             "#c51b7d"
            ],
            [
             0.2,
             "#de77ae"
            ],
            [
             0.3,
             "#f1b6da"
            ],
            [
             0.4,
             "#fde0ef"
            ],
            [
             0.5,
             "#f7f7f7"
            ],
            [
             0.6,
             "#e6f5d0"
            ],
            [
             0.7,
             "#b8e186"
            ],
            [
             0.8,
             "#7fbc41"
            ],
            [
             0.9,
             "#4d9221"
            ],
            [
             1,
             "#276419"
            ]
           ],
           "sequential": [
            [
             0,
             "#0d0887"
            ],
            [
             0.1111111111111111,
             "#46039f"
            ],
            [
             0.2222222222222222,
             "#7201a8"
            ],
            [
             0.3333333333333333,
             "#9c179e"
            ],
            [
             0.4444444444444444,
             "#bd3786"
            ],
            [
             0.5555555555555556,
             "#d8576b"
            ],
            [
             0.6666666666666666,
             "#ed7953"
            ],
            [
             0.7777777777777778,
             "#fb9f3a"
            ],
            [
             0.8888888888888888,
             "#fdca26"
            ],
            [
             1,
             "#f0f921"
            ]
           ],
           "sequentialminus": [
            [
             0,
             "#0d0887"
            ],
            [
             0.1111111111111111,
             "#46039f"
            ],
            [
             0.2222222222222222,
             "#7201a8"
            ],
            [
             0.3333333333333333,
             "#9c179e"
            ],
            [
             0.4444444444444444,
             "#bd3786"
            ],
            [
             0.5555555555555556,
             "#d8576b"
            ],
            [
             0.6666666666666666,
             "#ed7953"
            ],
            [
             0.7777777777777778,
             "#fb9f3a"
            ],
            [
             0.8888888888888888,
             "#fdca26"
            ],
            [
             1,
             "#f0f921"
            ]
           ]
          },
          "colorway": [
           "#636efa",
           "#EF553B",
           "#00cc96",
           "#ab63fa",
           "#FFA15A",
           "#19d3f3",
           "#FF6692",
           "#B6E880",
           "#FF97FF",
           "#FECB52"
          ],
          "font": {
           "color": "#2a3f5f"
          },
          "geo": {
           "bgcolor": "white",
           "lakecolor": "white",
           "landcolor": "#E5ECF6",
           "showlakes": true,
           "showland": true,
           "subunitcolor": "white"
          },
          "hoverlabel": {
           "align": "left"
          },
          "hovermode": "closest",
          "mapbox": {
           "style": "light"
          },
          "paper_bgcolor": "white",
          "plot_bgcolor": "#E5ECF6",
          "polar": {
           "angularaxis": {
            "gridcolor": "white",
            "linecolor": "white",
            "ticks": ""
           },
           "bgcolor": "#E5ECF6",
           "radialaxis": {
            "gridcolor": "white",
            "linecolor": "white",
            "ticks": ""
           }
          },
          "scene": {
           "xaxis": {
            "backgroundcolor": "#E5ECF6",
            "gridcolor": "white",
            "gridwidth": 2,
            "linecolor": "white",
            "showbackground": true,
            "ticks": "",
            "zerolinecolor": "white"
           },
           "yaxis": {
            "backgroundcolor": "#E5ECF6",
            "gridcolor": "white",
            "gridwidth": 2,
            "linecolor": "white",
            "showbackground": true,
            "ticks": "",
            "zerolinecolor": "white"
           },
           "zaxis": {
            "backgroundcolor": "#E5ECF6",
            "gridcolor": "white",
            "gridwidth": 2,
            "linecolor": "white",
            "showbackground": true,
            "ticks": "",
            "zerolinecolor": "white"
           }
          },
          "shapedefaults": {
           "line": {
            "color": "#2a3f5f"
           }
          },
          "ternary": {
           "aaxis": {
            "gridcolor": "white",
            "linecolor": "white",
            "ticks": ""
           },
           "baxis": {
            "gridcolor": "white",
            "linecolor": "white",
            "ticks": ""
           },
           "bgcolor": "#E5ECF6",
           "caxis": {
            "gridcolor": "white",
            "linecolor": "white",
            "ticks": ""
           }
          },
          "title": {
           "x": 0.05
          },
          "xaxis": {
           "automargin": true,
           "gridcolor": "white",
           "linecolor": "white",
           "ticks": "",
           "title": {
            "standoff": 15
           },
           "zerolinecolor": "white",
           "zerolinewidth": 2
          },
          "yaxis": {
           "automargin": true,
           "gridcolor": "white",
           "linecolor": "white",
           "ticks": "",
           "title": {
            "standoff": 15
           },
           "zerolinecolor": "white",
           "zerolinewidth": 2
          }
         }
        }
       }
      },
      "image/png": "[encoded data removed]",
      "text/html": [
       "<div>                            <div id=\"d1295f10-1b1f-47e9-ab50-5f2ec6d515bf\" class=\"plotly-graph-div\" style=\"height:525px; width:100%;\"></div>            <script type=\"text/javascript\">                require([\"plotly\"], function(Plotly) {                    window.PLOTLYENV=window.PLOTLYENV || {};                                    if (document.getElementById(\"d1295f10-1b1f-47e9-ab50-5f2ec6d515bf\")) {                    Plotly.newPlot(                        \"d1295f10-1b1f-47e9-ab50-5f2ec6d515bf\",                        [{\"colorscale\":[[0.0,\"blue\"],[0.3,\"lime\"],[0.5,\"yellow\"],[0.7,\"orange\"],[1.0,\"red\"]],\"lat\":[51.3095,51.42118,51.42055,51.41359,51.39994,51.11011,51.29545,51.32647,51.32574,51.30896],\"lon\":[0.393356,0.234001,0.343562,0.366058,0.433861,1.286078,0.52817,0.530954,0.559163,0.380471],\"radius\":40,\"z\":[0.046966822506362534,0.09934056458419366,0.09857814689154876,0.19697139501230446,0.023134736979620193,0.04663317000779466,0.056594754957240805,0.0016483198553117159,0.03660662684906271,0.0041759273842051714],\"zmax\":1.0,\"zmin\":0.0,\"type\":\"densitymapbox\"}],                        {\"template\":{\"data\":{\"histogram2dcontour\":[{\"type\":\"histogram2dcontour\",\"colorbar\":{\"outlinewidth\":0,\"ticks\":\"\"},\"colorscale\":[[0.0,\"#0d0887\"],[0.1111111111111111,\"#46039f\"],[0.2222222222222222,\"#7201a8\"],[0.3333333333333333,\"#9c179e\"],[0.4444444444444444,\"#bd3786\"],[0.5555555555555556,\"#d8576b\"],[0.6666666666666666,\"#ed7953\"],[0.7777777777777778,\"#fb9f3a\"],[0.8888888888888888,\"#fdca26\"],[1.0,\"#f0f921\"]]}],\"choropleth\":[{\"type\":\"choropleth\",\"colorbar\":{\"outlinewidth\":0,\"ticks\":\"\"}}],\"histogram2d\":[{\"type\":\"histogram2d\",\"colorbar\":{\"outlinewidth\":0,\"ticks\":\"\"},\"colorscale\":[[0.0,\"#0d0887\"],[0.1111111111111111,\"#46039f\"],[0.2222222222222222,\"#7201a8\"],[0.3333333333333333,\"#9c179e\"],[0.4444444444444444,\"#bd3786\"],[0.5555555555555556,\"#d8576b\"],[0.6666666666666666,\"#ed7953\"],[0.7777777777777778,\"#fb9f3a\"],[0.8888888888888888,\"#fdca26\"],[1.0,\"#f0f921\"]]}],\"heatmap\":[{\"type\":\"heatmap\",\"colorbar\":{\"outlinewidth\":0,\"ticks\":\"\"},\"colorscale\":[[0.0,\"#0d0887\"],[0.1111111111111111,\"#46039f\"],[0.2222222222222222,\"#7201a8\"],[0.3333333333333333,\"#9c179e\"],[0.4444444444444444,\"#bd3786\"],[0.5555555555555556,\"#d8576b\"],[0.6666666666666666,\"#ed7953\"],[0.7777777777777778,\"#fb9f3a\"],[0.8888888888888888,\"#fdca26\"],[1.0,\"#f0f921\"]]}],\"heatmapgl\":[{\"type\":\"heatmapgl\",\"colorbar\":{\"outlinewidth\":0,\"ticks\":\"\"},\"colorscale\":[[0.0,\"#0d0887\"],[0.1111111111111111,\"#46039f\"],[0.2222222222222222,\"#7201a8\"],[0.3333333333333333,\"#9c179e\"],[0.4444444444444444,\"#bd3786\"],[0.5555555555555556,\"#d8576b\"],[0.6666666666666666,\"#ed7953\"],[0.7777777777777778,\"#fb9f3a\"],[0.8888888888888888,\"#fdca26\"],[1.0,\"#f0f921\"]]}],\"contourcarpet\":[{\"type\":\"contourcarpet\",\"colorbar\":{\"outlinewidth\":0,\"ticks\":\"\"}}],\"contour\":[{\"type\":\"contour\",\"colorbar\":{\"outlinewidth\":0,\"ticks\":\"\"},\"colorscale\":[[0.0,\"#0d0887\"],[0.1111111111111111,\"#46039f\"],[0.2222222222222222,\"#7201a8\"],[0.3333333333333333,\"#9c179e\"],[0.4444444444444444,\"#bd3786\"],[0.5555555555555556,\"#d8576b\"],[0.6666666666666666,\"#ed7953\"],[0.7777777777777778,\"#fb9f3a\"],[0.8888888888888888,\"#fdca26\"],[1.0,\"#f0f921\"]]}],\"surface\":[{\"type\":\"surface\",\"colorbar\":{\"outlinewidth\":0,\"ticks\":\"\"},\"colorscale\":[[0.0,\"#0d0887\"],[0.1111111111111111,\"#46039f\"],[0.2222222222222222,\"#7201a8\"],[0.3333333333333333,\"#9c179e\"],[0.4444444444444444,\"#bd3786\"],[0.5555555555555556,\"#d8576b\"],[0.6666666666666666,\"#ed7953\"],[0.7777777777777778,\"#fb9f3a\"],[0.8888888888888888,\"#fdca26\"],[1.0,\"#f0f921\"]]}],\"mesh3d\":[{\"type\":\"mesh3d\",\"colorbar\":{\"outlinewidth\":0,\"ticks\":\"\"}}],\"scatter\":[{\"fillpattern\":{\"fillmode\":\"overlay\",\"size\":10,\"solidity\":0.2},\"type\":\"scatter\"}],\"parcoords\":[{\"type\":\"parcoords\",\"line\":{\"colorbar\":{\"outlinewidth\":0,\"ticks\":\"\"}}}],\"scatterpolargl\":[{\"type\":\"scatterpolargl\",\"marker\":{\"colorbar\":{\"outlinewidth\":0,\"ticks\":\"\"}}}],\"bar\":[{\"error_x\":{\"color\":\"#2a3f5f\"},\"error_y\":{\"color\":\"#2a3f5f\"},\"marker\":{\"line\":{\"color\":\"#E5ECF6\",\"width\":0.5},\"pattern\":{\"fillmode\":\"overlay\",\"size\":10,\"solidity\":0.2}},\"type\":\"bar\"}],\"scattergeo\":[{\"type\":\"scattergeo\",\"marker\":{\"colorbar\":{\"outlinewidth\":0,\"ticks\":\"\"}}}],\"scatterpolar\":[{\"type\":\"scatterpolar\",\"marker\":{\"colorbar\":{\"outlinewidth\":0,\"ticks\":\"\"}}}],\"histogram\":[{\"marker\":{\"pattern\":{\"fillmode\":\"overlay\",\"size\":10,\"solidity\":0.2}},\"type\":\"histogram\"}],\"scattergl\":[{\"type\":\"scattergl\",\"marker\":{\"colorbar\":{\"outlinewidth\":0,\"ticks\":\"\"}}}],\"scatter3d\":[{\"type\":\"scatter3d\",\"line\":{\"colorbar\":{\"outlinewidth\":0,\"ticks\":\"\"}},\"marker\":{\"colorbar\":{\"outlinewidth\":0,\"ticks\":\"\"}}}],\"scattermapbox\":[{\"type\":\"scattermapbox\",\"marker\":{\"colorbar\":{\"outlinewidth\":0,\"ticks\":\"\"}}}],\"scatterternary\":[{\"type\":\"scatterternary\",\"marker\":{\"colorbar\":{\"outlinewidth\":0,\"ticks\":\"\"}}}],\"scattercarpet\":[{\"type\":\"scattercarpet\",\"marker\":{\"colorbar\":{\"outlinewidth\":0,\"ticks\":\"\"}}}],\"carpet\":[{\"aaxis\":{\"endlinecolor\":\"#2a3f5f\",\"gridcolor\":\"white\",\"linecolor\":\"white\",\"minorgridcolor\":\"white\",\"startlinecolor\":\"#2a3f5f\"},\"baxis\":{\"endlinecolor\":\"#2a3f5f\",\"gridcolor\":\"white\",\"linecolor\":\"white\",\"minorgridcolor\":\"white\",\"startlinecolor\":\"#2a3f5f\"},\"type\":\"carpet\"}],\"table\":[{\"cells\":{\"fill\":{\"color\":\"#EBF0F8\"},\"line\":{\"color\":\"white\"}},\"header\":{\"fill\":{\"color\":\"#C8D4E3\"},\"line\":{\"color\":\"white\"}},\"type\":\"table\"}],\"barpolar\":[{\"marker\":{\"line\":{\"color\":\"#E5ECF6\",\"width\":0.5},\"pattern\":{\"fillmode\":\"overlay\",\"size\":10,\"solidity\":0.2}},\"type\":\"barpolar\"}],\"pie\":[{\"automargin\":true,\"type\":\"pie\"}]},\"layout\":{\"autotypenumbers\":\"strict\",\"colorway\":[\"#636efa\",\"#EF553B\",\"#00cc96\",\"#ab63fa\",\"#FFA15A\",\"#19d3f3\",\"#FF6692\",\"#B6E880\",\"#FF97FF\",\"#FECB52\"],\"font\":{\"color\":\"#2a3f5f\"},\"hovermode\":\"closest\",\"hoverlabel\":{\"align\":\"left\"},\"paper_bgcolor\":\"white\",\"plot_bgcolor\":\"#E5ECF6\",\"polar\":{\"bgcolor\":\"#E5ECF6\",\"angularaxis\":{\"gridcolor\":\"white\",\"linecolor\":\"white\",\"ticks\":\"\"},\"radialaxis\":{\"gridcolor\":\"white\",\"linecolor\":\"white\",\"ticks\":\"\"}},\"ternary\":{\"bgcolor\":\"#E5ECF6\",\"aaxis\":{\"gridcolor\":\"white\",\"linecolor\":\"white\",\"ticks\":\"\"},\"baxis\":{\"gridcolor\":\"white\",\"linecolor\":\"white\",\"ticks\":\"\"},\"caxis\":{\"gridcolor\":\"white\",\"linecolor\":\"white\",\"ticks\":\"\"}},\"coloraxis\":{\"colorbar\":{\"outlinewidth\":0,\"ticks\":\"\"}},\"colorscale\":{\"sequential\":[[0.0,\"#0d0887\"],[0.1111111111111111,\"#46039f\"],[0.2222222222222222,\"#7201a8\"],[0.3333333333333333,\"#9c179e\"],[0.4444444444444444,\"#bd3786\"],[0.5555555555555556,\"#d8576b\"],[0.6666666666666666,\"#ed7953\"],[0.7777777777777778,\"#fb9f3a\"],[0.8888888888888888,\"#fdca26\"],[1.0,\"#f0f921\"]],\"sequentialminus\":[[0.0,\"#0d0887\"],[0.1111111111111111,\"#46039f\"],[0.2222222222222222,\"#7201a8\"],[0.3333333333333333,\"#9c179e\"],[0.4444444444444444,\"#bd3786\"],[0.5555555555555556,\"#d8576b\"],[0.6666666666666666,\"#ed7953\"],[0.7777777777777778,\"#fb9f3a\"],[0.8888888888888888,\"#fdca26\"],[1.0,\"#f0f921\"]],\"diverging\":[[0,\"#8e0152\"],[0.1,\"#c51b7d\"],[0.2,\"#de77ae\"],[0.3,\"#f1b6da\"],[0.4,\"#fde0ef\"],[0.5,\"#f7f7f7\"],[0.6,\"#e6f5d0\"],[0.7,\"#b8e186\"],[0.8,\"#7fbc41\"],[0.9,\"#4d9221\"],[1,\"#276419\"]]},\"xaxis\":{\"gridcolor\":\"white\",\"linecolor\":\"white\",\"ticks\":\"\",\"title\":{\"standoff\":15},\"zerolinecolor\":\"white\",\"automargin\":true,\"zerolinewidth\":2},\"yaxis\":{\"gridcolor\":\"white\",\"linecolor\":\"white\",\"ticks\":\"\",\"title\":{\"standoff\":15},\"zerolinecolor\":\"white\",\"automargin\":true,\"zerolinewidth\":2},\"scene\":{\"xaxis\":{\"backgroundcolor\":\"#E5ECF6\",\"gridcolor\":\"white\",\"linecolor\":\"white\",\"showbackground\":true,\"ticks\":\"\",\"zerolinecolor\":\"white\",\"gridwidth\":2},\"yaxis\":{\"backgroundcolor\":\"#E5ECF6\",\"gridcolor\":\"white\",\"linecolor\":\"white\",\"showbackground\":true,\"ticks\":\"\",\"zerolinecolor\":\"white\",\"gridwidth\":2},\"zaxis\":{\"backgroundcolor\":\"#E5ECF6\",\"gridcolor\":\"white\",\"linecolor\":\"white\",\"showbackground\":true,\"ticks\":\"\",\"zerolinecolor\":\"white\",\"gridwidth\":2}},\"shapedefaults\":{\"line\":{\"color\":\"#2a3f5f\"}},\"annotationdefaults\":{\"arrowcolor\":\"#2a3f5f\",\"arrowhead\":0,\"arrowwidth\":1},\"geo\":{\"bgcolor\":\"white\",\"landcolor\":\"#E5ECF6\",\"subunitcolor\":\"white\",\"showland\":true,\"showlakes\":true,\"lakecolor\":\"white\"},\"title\":{\"x\":0.05},\"mapbox\":{\"style\":\"light\"}}},\"mapbox\":{\"center\":{\"lon\":0.7600395,\"lat\":51.265645},\"style\":\"carto-positron\",\"zoom\":8},\"margin\":{\"r\":0,\"t\":0,\"l\":0,\"b\":0}},                        {\"responsive\": true}                    ).then(function(){\n",
       "                            \n",
       "var gd = document.getElementById('d1295f10-1b1f-47e9-ab50-5f2ec6d515bf');\n",
       "var x = new MutationObserver(function (mutations, observer) {{\n",
       "        var display = window.getComputedStyle(gd).display;\n",
       "        if (!display || display === 'none') {{\n",
       "            console.log([gd, 'removed!']);\n",
       "            Plotly.purge(gd);\n",
       "            observer.disconnect();\n",
       "        }}\n",
       "}});\n",
       "\n",
       "// Listen for the removal of the full notebook cells\n",
       "var notebookContainer = gd.closest('#notebook-container');\n",
       "if (notebookContainer) {{\n",
       "    x.observe(notebookContainer, {childList: true});\n",
       "}}\n",
       "\n",
       "// Listen for the clearing of the current output cell\n",
       "var outputEl = gd.closest('.output');\n",
       "if (outputEl) {{\n",
       "    x.observe(outputEl, {childList: true});\n",
       "}}\n",
       "\n",
       "                        })                };                });            </script>        </div>"
      ]
     },
     "metadata": {},
     "output_type": "display_data"
    }
   ],
   "source": [
    "import pandas as pd\n",
    "import numpy as np\n",
    "import random\n",
    "import plotly.graph_objects as go\n",
    "\n",
    "#lat = [random.uniform(33.5, 34.5) for x in range(100)]\n",
    "#lon = [random.uniform(-118.5,-117.5) for x in range(100)]\n",
    "#geo_stat_list_final = pd.DataFrame({'Lat':lat,'Long':lon,'MoneyTotal': np.random.randint(1000,5000,100)})\n",
    "#geo_stat_list_final['weight'] = geo_stat_list_final['MoneyTotal'] / 5000\n",
    "\n",
    "fig = go.Figure(go.Densitymapbox(lat=showdata['latitude'], \n",
    "                                 lon=showdata['longitude'],\n",
    "                                 z=showdata['08:00_normalized'],\n",
    "                                 radius=40,\n",
    "                                 colorscale=[[0.0, 'blue',],[0.3,'lime'],[0.5,'yellow'],[0.7,'orange'],[1.0, 'red']],# custome colorscale\n",
    "                                 zmin=0.0,\n",
    "                                 zmax=1.0\n",
    "                                ))\n",
    "\n",
    "fig.update_layout(mapbox_style=\"carto-positron\",\n",
    "                  mapbox_center_lon=center_log,\n",
    "                  mapbox_center_lat=center_lat,\n",
    "                  mapbox_zoom=8)\n",
    "\n",
    "fig.update_layout(margin={\"r\":0,\"t\":0,\"l\":0,\"b\":0})\n",
    "fig.show()"
   ]
  },
  {
   "cell_type": "code",
   "execution_count": 90,
   "id": "c3658e12-9939-40f2-b111-7ff5ae51aeda",
   "metadata": {
    "tags": []
   },
   "outputs": [
    {
     "name": "stdout",
     "output_type": "stream",
     "text": [
      "[0.1623428974169373, 0.022194085094659144, 0.09278415566172053, 0.09506239601082975, 0.016899523760988005, 0.04581781051734726, 0.11299840207612394, 0.23389004683628753, 0.3868755886459525, 0.137233139079108]\n"
     ]
    },
    {
     "data": {
      "text/html": [
       "<div style=\"width:100%;\"><div style=\"position:relative;width:100%;height:0;padding-bottom:60%;\"><span style=\"color:#565656\">Make this Notebook Trusted to load map: File -> Trust Notebook</span><iframe srcdoc=\"&lt;!DOCTYPE html&gt;\n",
       "&lt;html&gt;\n",
       "&lt;head&gt;\n",
       "    \n",
       "    &lt;meta http-equiv=&quot;content-type&quot; content=&quot;text/html; charset=UTF-8&quot; /&gt;\n",
       "    \n",
       "        &lt;script&gt;\n",
       "            L_NO_TOUCH = false;\n",
       "            L_DISABLE_3D = false;\n",
       "        &lt;/script&gt;\n",
       "    \n",
       "    &lt;style&gt;html, body {width: 100%;height: 100%;margin: 0;padding: 0;}&lt;/style&gt;\n",
       "    &lt;style&gt;#map {position:absolute;top:0;bottom:0;right:0;left:0;}&lt;/style&gt;\n",
       "    &lt;script src=&quot;https://cdn.jsdelivr.net/npm/leaflet@1.9.3/dist/leaflet.js&quot;&gt;&lt;/script&gt;\n",
       "    &lt;script src=&quot;https://code.jquery.com/jquery-3.7.1.min.js&quot;&gt;&lt;/script&gt;\n",
       "    &lt;script src=&quot;https://cdn.jsdelivr.net/npm/bootstrap@5.2.2/dist/js/bootstrap.bundle.min.js&quot;&gt;&lt;/script&gt;\n",
       "    &lt;script src=&quot;https://cdnjs.cloudflare.com/ajax/libs/Leaflet.awesome-markers/2.0.2/leaflet.awesome-markers.js&quot;&gt;&lt;/script&gt;\n",
       "    &lt;link rel=&quot;stylesheet&quot; href=&quot;https://cdn.jsdelivr.net/npm/leaflet@1.9.3/dist/leaflet.css&quot;/&gt;\n",
       "    &lt;link rel=&quot;stylesheet&quot; href=&quot;https://cdn.jsdelivr.net/npm/bootstrap@5.2.2/dist/css/bootstrap.min.css&quot;/&gt;\n",
       "    &lt;link rel=&quot;stylesheet&quot; href=&quot;https://netdna.bootstrapcdn.com/bootstrap/3.0.0/css/bootstrap.min.css&quot;/&gt;\n",
       "    &lt;link rel=&quot;stylesheet&quot; href=&quot;https://cdn.jsdelivr.net/npm/@fortawesome/fontawesome-free@6.2.0/css/all.min.css&quot;/&gt;\n",
       "    &lt;link rel=&quot;stylesheet&quot; href=&quot;https://cdnjs.cloudflare.com/ajax/libs/Leaflet.awesome-markers/2.0.2/leaflet.awesome-markers.css&quot;/&gt;\n",
       "    &lt;link rel=&quot;stylesheet&quot; href=&quot;https://cdn.jsdelivr.net/gh/python-visualization/folium/folium/templates/leaflet.awesome.rotate.min.css&quot;/&gt;\n",
       "    \n",
       "            &lt;meta name=&quot;viewport&quot; content=&quot;width=device-width,\n",
       "                initial-scale=1.0, maximum-scale=1.0, user-scalable=no&quot; /&gt;\n",
       "            &lt;style&gt;\n",
       "                #map_076155bcd7df97c24efd2138dd5889da {\n",
       "                    position: relative;\n",
       "                    width: 100.0%;\n",
       "                    height: 100.0%;\n",
       "                    left: 0.0%;\n",
       "                    top: 0.0%;\n",
       "                }\n",
       "                .leaflet-container { font-size: 1rem; }\n",
       "            &lt;/style&gt;\n",
       "        \n",
       "    &lt;script src=&quot;https://cdn.jsdelivr.net/gh/python-visualization/folium@main/folium/templates/leaflet_heat.min.js&quot;&gt;&lt;/script&gt;\n",
       "&lt;/head&gt;\n",
       "&lt;body&gt;\n",
       "    \n",
       "    \n",
       "            &lt;div class=&quot;folium-map&quot; id=&quot;map_076155bcd7df97c24efd2138dd5889da&quot; &gt;&lt;/div&gt;\n",
       "        \n",
       "&lt;/body&gt;\n",
       "&lt;script&gt;\n",
       "    \n",
       "    \n",
       "            var map_076155bcd7df97c24efd2138dd5889da = L.map(\n",
       "                &quot;map_076155bcd7df97c24efd2138dd5889da&quot;,\n",
       "                {\n",
       "                    center: [51.265645, 0.7600395],\n",
       "                    crs: L.CRS.EPSG3857,\n",
       "                    zoom: 10,\n",
       "                    zoomControl: true,\n",
       "                    preferCanvas: false,\n",
       "                }\n",
       "            );\n",
       "\n",
       "            \n",
       "\n",
       "        \n",
       "    \n",
       "            var tile_layer_db0a6c86003e1a38817e66ba685d96fd = L.tileLayer(\n",
       "                &quot;https://tile.openstreetmap.org/{z}/{x}/{y}.png&quot;,\n",
       "                {&quot;attribution&quot;: &quot;\\u0026copy; \\u003ca href=\\&quot;https://www.openstreetmap.org/copyright\\&quot;\\u003eOpenStreetMap\\u003c/a\\u003e contributors&quot;, &quot;detectRetina&quot;: false, &quot;maxNativeZoom&quot;: 19, &quot;maxZoom&quot;: 19, &quot;minZoom&quot;: 0, &quot;noWrap&quot;: false, &quot;opacity&quot;: 1, &quot;subdomains&quot;: &quot;abc&quot;, &quot;tms&quot;: false}\n",
       "            );\n",
       "        \n",
       "    \n",
       "            tile_layer_db0a6c86003e1a38817e66ba685d96fd.addTo(map_076155bcd7df97c24efd2138dd5889da);\n",
       "        \n",
       "    \n",
       "            var heat_map_b656210a720b203d089f627238a3ed8c = L.heatLayer(\n",
       "                [[51.3095, 0.393356, 0.1623428974169373], [51.42118, 0.234001, 0.022194085094659144], [51.42055, 0.343562, 0.09278415566172053], [51.41359, 0.366058, 0.09506239601082975], [51.39994, 0.433861, 0.016899523760988005], [51.11011, 1.286078, 0.04581781051734726], [51.29545, 0.52817, 0.11299840207612394], [51.32647, 0.530954, 0.23389004683628753], [51.32574, 0.559163, 0.3868755886459525], [51.30896, 0.380471, 0.137233139079108]],\n",
       "                {&quot;blur&quot;: 15, &quot;gradient&quot;: {&quot;0.1&quot;: &quot;blue&quot;, &quot;0.4&quot;: &quot;cyan&quot;, &quot;0.5&quot;: &quot;lime&quot;, &quot;0.6&quot;: &quot;yellow&quot;, &quot;0.7&quot;: &quot;orange&quot;, &quot;0.9&quot;: &quot;red&quot;}, &quot;maxZoom&quot;: 18, &quot;minOpacity&quot;: 0.5, &quot;radius&quot;: 25}\n",
       "            );\n",
       "        \n",
       "    \n",
       "            heat_map_b656210a720b203d089f627238a3ed8c.addTo(map_076155bcd7df97c24efd2138dd5889da);\n",
       "        \n",
       "&lt;/script&gt;\n",
       "&lt;/html&gt;\" style=\"position:absolute;width:100%;height:100%;left:0;top:0;border:none !important;\" allowfullscreen webkitallowfullscreen mozallowfullscreen></iframe></div></div>"
      ],
      "text/plain": [
       "<folium.folium.Map at 0x7fd3403e68f0>"
      ]
     },
     "execution_count": 90,
     "metadata": {},
     "output_type": "execute_result"
    }
   ],
   "source": [
    "\n",
    "# Use your actual data\n",
    "locations = showdata[['latitude', 'longitude']]\n",
    "weights = showdata[\"18:00_normalized\"].tolist()  # Convert to list for folium\n",
    "data = list(zip(locations['latitude'], locations['longitude'], weights))\n",
    "print(weights)\n",
    "center_lat = (locations['latitude'].max()+locations['latitude'].min())/2\n",
    "center_log = (locations['longitude'].max()+locations['longitude'].min())/2\n",
    "\n",
    "# Create the map\n",
    "map_hooray4 = folium.Map(location=[center_lat, center_log], zoom_start=10)\n",
    "\n",
    "#gradient = {0.0: 'blue', 0.015: 'cyan', 0.03: 'lime', 0.045: 'yellow', 0.06: 'red'}\n",
    "\n",
    "#heatmap = HeatMap(data, min_opacity=0.5, radius=25, blur=10, max_zoom=1, gradient=gradient)\n",
    "\n",
    "# Create a HeatMap\n",
    "heatmap4 = HeatMap(data,gradient=gradient)\n",
    "map_hooray4.add_child(heatmap4)\n",
    "\n",
    "map_hooray4\n"
   ]
  }
 ],
 "metadata": {
  "environment": {
   "kernel": "conda-base-py",
   "name": "workbench-notebooks.m120",
   "type": "gcloud",
   "uri": "us-docker.pkg.dev/deeplearning-platform-release/gcr.io/workbench-notebooks:m120"
  },
  "kernelspec": {
   "display_name": "Python 3 (ipykernel) (Local)",
   "language": "python",
   "name": "conda-base-py"
  },
  "language_info": {
   "codemirror_mode": {
    "name": "ipython",
    "version": 3
   },
   "file_extension": ".py",
   "mimetype": "text/x-python",
   "name": "python",
   "nbconvert_exporter": "python",
   "pygments_lexer": "ipython3",
   "version": "3.10.14"
  }
 },
 "nbformat": 4,
 "nbformat_minor": 5
}
